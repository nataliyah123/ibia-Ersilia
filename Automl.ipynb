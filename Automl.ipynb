{
  "nbformat": 4,
  "nbformat_minor": 0,
  "metadata": {
    "colab": {
      "provenance": [],
      "authorship_tag": "ABX9TyPBNvwFtoFP3h6ijS22pUrH",
      "include_colab_link": true
    },
    "kernelspec": {
      "name": "python3",
      "display_name": "Python 3"
    },
    "language_info": {
      "name": "python"
    }
  },
  "cells": [
    {
      "cell_type": "markdown",
      "metadata": {
        "id": "view-in-github",
        "colab_type": "text"
      },
      "source": [
        "<a href=\"https://colab.research.google.com/github/nataliyah123/ibia-Ersilia/blob/main/Automl.ipynb\" target=\"_parent\"><img src=\"https://colab.research.google.com/assets/colab-badge.svg\" alt=\"Open In Colab\"/></a>"
      ]
    },
    {
      "cell_type": "markdown",
      "source": [
        "# Basic AutoML Example"
      ],
      "metadata": {
        "id": "NSGHAyXwPsQV"
      }
    },
    {
      "cell_type": "code",
      "execution_count": null,
      "metadata": {
        "id": "LswF9Gcg534r"
      },
      "outputs": [],
      "source": [
        "%%capture\n",
        "\n",
        "!pip install rdkit-pypi"
      ]
    },
    {
      "cell_type": "code",
      "source": [
        "%%capture\n",
        "\n",
        "!pip install flaml"
      ],
      "metadata": {
        "id": "Jkf8s4IJ6FhZ"
      },
      "execution_count": null,
      "outputs": []
    },
    {
      "cell_type": "code",
      "source": [
        "import pandas as pd\n",
        "from rdkit import Chem\n",
        "from flaml import AutoML\n",
        "from rdkit.Chem import rdMolDescriptors as rd\n",
        "from sklearn.model_selection import train_test_split\n",
        "import numpy as np"
      ],
      "metadata": {
        "id": "Weq9bxmL6NCh"
      },
      "execution_count": null,
      "outputs": []
    },
    {
      "cell_type": "code",
      "source": [
        "%%capture\n",
        "!pip install git+https://github.com/samoturk/mol2vec"
      ],
      "metadata": {
        "id": "v801Qa296RY8"
      },
      "execution_count": null,
      "outputs": []
    },
    {
      "cell_type": "code",
      "source": [
        "smilescsv = pd.read_csv('dilismiles.csv', names = ['col_smiles'])\n",
        "smileslist = smilescsv['col_smiles'].tolist()"
      ],
      "metadata": {
        "id": "P3M0sGbo6Z9q"
      },
      "execution_count": null,
      "outputs": []
    },
    {
      "cell_type": "code",
      "source": [
        "data = pd.read_csv('dili_padel_2d.csv')\n",
        "dataframe = pd.DataFrame(data)\n",
        "desc = pd.DataFrame(dataframe.iloc[:, 3:])"
      ],
      "metadata": {
        "colab": {
          "base_uri": "https://localhost:8080/"
        },
        "id": "_4YcVROj6dlB",
        "outputId": "459db4dd-ab52-4048-e84e-9f1d33df77d4"
      },
      "execution_count": null,
      "outputs": [
        {
          "output_type": "stream",
          "name": "stderr",
          "text": [
            "/usr/local/lib/python3.8/dist-packages/IPython/core/interactiveshell.py:3326: DtypeWarning: Columns (423,424,425,426,427,428,429,430,431,477,478,479,480,481,482,483,484,485,540,541,542,543,544,545,546,547,548,603,604,605,606,607,608,609,610,611,1012,1013,1050,1052,1074,1083,1084,1121,1123,1145,1217,1218,1219,1220,1222,1223,1224,1226,1227,1229) have mixed types.Specify dtype option on import or set low_memory=False.\n",
            "  exec(code_obj, self.user_global_ns, self.user_ns)\n"
          ]
        }
      ]
    },
    {
      "cell_type": "code",
      "source": [
        "y = dataframe['Outcome']\n",
        "y = np.array(y)"
      ],
      "metadata": {
        "id": "XXBdSMCV6i9h"
      },
      "execution_count": null,
      "outputs": []
    },
    {
      "cell_type": "code",
      "source": [
        "from sklearn.metrics import roc_curve, auc\n",
        "from sklearn.model_selection import KFold\n",
        "\n",
        "modelAutoML = AutoML(task=\"classification\",time_budget=60)\n",
        "cv = KFold(n_splits=10)\n",
        "for i, (train, test) in enumerate(cv.split(desc, y)):\n",
        "  modelAutoML.fit(desc.iloc[train], y[train], time_budget=20, verbose=-1)\n",
        "  y_hat = modelAutoML.predict(desc.iloc[test])\n",
        "  fpr, tpr, _ = roc_curve(y[test], y_hat)\n",
        "  print(\"AUROC\", auc(fpr, tpr))\n"
      ],
      "metadata": {
        "colab": {
          "base_uri": "https://localhost:8080/"
        },
        "id": "Lt9gSjBL6opH",
        "outputId": "4bc58add-aa68-4eeb-8a85-2c92e69b142d"
      },
      "execution_count": null,
      "outputs": [
        {
          "output_type": "stream",
          "name": "stdout",
          "text": [
            "AUROC 0.446256038647343\n",
            "AUROC 0.5\n",
            "AUROC 0.5057870370370371\n",
            "AUROC 0.5\n",
            "AUROC 0.5\n",
            "AUROC 0.5432027649769585\n",
            "AUROC 0.5246212121212122\n",
            "AUROC 0.5177631578947368\n",
            "AUROC 0.5277777777777778\n",
            "AUROC 0.5398110661268556\n"
          ]
        }
      ]
    },
    {
      "cell_type": "markdown",
      "source": [
        "# With Word2Vec feature selection method"
      ],
      "metadata": {
        "id": "UyCbVmAcShOx"
      }
    },
    {
      "cell_type": "code",
      "source": [
        "from mol2vec.features import mol2alt_sentence, mol2sentence, MolSentence,DfVec, sentences2vec\n",
        "import numpy as np\n",
        "from gensim.models import word2vec"
      ],
      "metadata": {
        "id": "RIzCulIV7jRW"
      },
      "execution_count": null,
      "outputs": []
    },
    {
      "cell_type": "code",
      "source": [
        "model = word2vec.Word2Vec.load('model_300dim_eric.pkl')\n",
        "smilescsv['mol'] = smilescsv['col_smiles'].apply(lambda x: Chem.MolFromSmiles(x)) \n",
        "smilescsv['sentence'] = smilescsv.apply(lambda x: MolSentence(mol2alt_sentence(x['mol'], 1)), axis=1)\n",
        "smilescsv['mol2vec'] = [DfVec(x) for x in sentences2vec(smilescsv['sentence'], model, unseen='UNK')]"
      ],
      "metadata": {
        "id": "nsqtX5Gd7len"
      },
      "execution_count": null,
      "outputs": []
    },
    {
      "cell_type": "code",
      "source": [
        "X = np.array([x.vec for x in smilescsv['mol2vec']])"
      ],
      "metadata": {
        "id": "J93nY9-XCE3z"
      },
      "execution_count": null,
      "outputs": []
    },
    {
      "cell_type": "code",
      "source": [
        "X.shape"
      ],
      "metadata": {
        "colab": {
          "base_uri": "https://localhost:8080/"
        },
        "id": "5saa4QwsexPI",
        "outputId": "9f9032a9-2eeb-4470-fc3b-9f536417877a"
      },
      "execution_count": null,
      "outputs": [
        {
          "output_type": "execute_result",
          "data": {
            "text/plain": [
              "(588, 300)"
            ]
          },
          "metadata": {},
          "execution_count": 13
        }
      ]
    },
    {
      "cell_type": "code",
      "source": [
        "from sklearn.metrics import roc_curve, auc\n",
        "from sklearn.model_selection import KFold\n",
        "\n",
        "modelAutoML = AutoML(task=\"classification\",time_budget=60)\n",
        "cv = KFold(n_splits=5)\n",
        "for i, (train, test) in enumerate(cv.split(X, y)):\n",
        "  modelAutoML.fit(X[train], y[train],verbose=-1)\n",
        "  y_hat = modelAutoML.predict(X[test])\n",
        "  fpr, tpr, _ = roc_curve(y[test], y_hat)\n",
        "  print(\"AUROC\", auc(fpr, tpr))\n"
      ],
      "metadata": {
        "colab": {
          "base_uri": "https://localhost:8080/"
        },
        "id": "mcsv0NMv7tFO",
        "outputId": "fa5cd27e-c7ed-4dd7-89e1-cca3fc0a2c42"
      },
      "execution_count": null,
      "outputs": [
        {
          "output_type": "stream",
          "name": "stderr",
          "text": [
            "INFO:flaml.tune.searcher.blendsearch:No low-cost partial config given to the search algorithm. For cost-frugal search, consider providing low-cost values for cost-related hps via 'low_cost_partial_config'. More info can be found at https://microsoft.github.io/FLAML/docs/FAQ#about-low_cost_partial_config-in-tune\n",
            "/usr/local/lib/python3.8/dist-packages/sklearn/linear_model/_sag.py:352: ConvergenceWarning: The max_iter was reached which means the coef_ did not converge\n",
            "  warnings.warn(\n"
          ]
        },
        {
          "output_type": "stream",
          "name": "stdout",
          "text": [
            "AUROC 0.5\n"
          ]
        },
        {
          "output_type": "stream",
          "name": "stderr",
          "text": [
            "INFO:flaml.tune.searcher.blendsearch:No low-cost partial config given to the search algorithm. For cost-frugal search, consider providing low-cost values for cost-related hps via 'low_cost_partial_config'. More info can be found at https://microsoft.github.io/FLAML/docs/FAQ#about-low_cost_partial_config-in-tune\n",
            "/usr/local/lib/python3.8/dist-packages/sklearn/linear_model/_sag.py:352: ConvergenceWarning: The max_iter was reached which means the coef_ did not converge\n",
            "  warnings.warn(\n"
          ]
        },
        {
          "output_type": "stream",
          "name": "stdout",
          "text": [
            "AUROC 0.5625625625625625\n"
          ]
        },
        {
          "output_type": "stream",
          "name": "stderr",
          "text": [
            "INFO:flaml.tune.searcher.blendsearch:No low-cost partial config given to the search algorithm. For cost-frugal search, consider providing low-cost values for cost-related hps via 'low_cost_partial_config'. More info can be found at https://microsoft.github.io/FLAML/docs/FAQ#about-low_cost_partial_config-in-tune\n",
            "/usr/local/lib/python3.8/dist-packages/sklearn/linear_model/_sag.py:352: ConvergenceWarning: The max_iter was reached which means the coef_ did not converge\n",
            "  warnings.warn(\n"
          ]
        },
        {
          "output_type": "stream",
          "name": "stdout",
          "text": [
            "AUROC 0.5\n",
            "AUROC 0.5045977011494253\n",
            "AUROC 0.5445945945945946\n"
          ]
        }
      ]
    },
    {
      "cell_type": "markdown",
      "source": [
        "More Information about the above warning can be found [here](https://github.com/microsoft/FLAML/wiki/About-%60low_cost_partial_config%60)"
      ],
      "metadata": {
        "id": "c1gU8go1ar43"
      }
    }
  ]
}