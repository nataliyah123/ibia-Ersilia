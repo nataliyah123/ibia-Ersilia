{
  "nbformat": 4,
  "nbformat_minor": 0,
  "metadata": {
    "colab": {
      "provenance": [],
      "authorship_tag": "ABX9TyOmQhuLdw9LMlwsGiCs7DeB",
      "include_colab_link": true
    },
    "kernelspec": {
      "name": "python3",
      "display_name": "Python 3"
    },
    "language_info": {
      "name": "python"
    }
  },
  "cells": [
    {
      "cell_type": "markdown",
      "metadata": {
        "id": "view-in-github",
        "colab_type": "text"
      },
      "source": [
        "<a href=\"https://colab.research.google.com/github/nataliyah123/ibia-Ersilia/blob/main/ersiliadili.ipynb\" target=\"_parent\"><img src=\"https://colab.research.google.com/assets/colab-badge.svg\" alt=\"Open In Colab\"/></a>"
      ]
    },
    {
      "cell_type": "code",
      "source": [
        "rm -r lazy-qsar/"
      ],
      "metadata": {
        "id": "2j7psHBNZNb_",
        "colab": {
          "base_uri": "https://localhost:8080/"
        },
        "outputId": "38804082-bbc8-49ab-e124-8f177b8557a3"
      },
      "execution_count": null,
      "outputs": [
        {
          "output_type": "stream",
          "name": "stdout",
          "text": [
            "rm: cannot remove 'lazy-qsar/': No such file or directory\n"
          ]
        }
      ]
    },
    {
      "cell_type": "code",
      "source": [
        "%%capture\n",
        "\n",
        "!pip install rdkit-pypi"
      ],
      "metadata": {
        "id": "umbJM-Rl41ce"
      },
      "execution_count": null,
      "outputs": []
    },
    {
      "cell_type": "code",
      "source": [
        "%%capture\n",
        "!git clone https://github.com/ersilia-os/lazy-qsar.git\n",
        "%cd lazy-qsar\n",
        "!python -m pip install -e ."
      ],
      "metadata": {
        "id": "5SKHYvVIX_kd"
      },
      "execution_count": null,
      "outputs": []
    },
    {
      "cell_type": "code",
      "source": [
        "%%capture\n",
        "!pip install git+https://github.com/samoturk/mol2vec"
      ],
      "metadata": {
        "id": "pH3aD9Iz2HmP"
      },
      "execution_count": null,
      "outputs": []
    },
    {
      "cell_type": "code",
      "execution_count": null,
      "metadata": {
        "id": "QFo_z4T7WE0T"
      },
      "outputs": [],
      "source": [
        "import lazyqsar as lq\n",
        "import pandas as pd\n",
        "import numpy as np\n",
        "from rdkit import Chem\n",
        "from sklearn.model_selection import train_test_split\n",
        "from sklearn.metrics import roc_curve, auc\n",
        "from gensim.models import word2vec\n",
        "from sklearn.model_selection import cross_val_score"
      ]
    },
    {
      "cell_type": "code",
      "source": [
        "# smiles = Chem.SmilesMolSupplier('dili.smi',delimiter='\\n') failed \n",
        "smilescsv = pd.read_csv('dilismiles.csv', names = ['col_smiles'])\n",
        "smileslist = smilescsv['col_smiles'].tolist()"
      ],
      "metadata": {
        "id": "mEq31uFx5OIA"
      },
      "execution_count": null,
      "outputs": []
    },
    {
      "cell_type": "markdown",
      "source": [
        "Add the H mol forgot to #ibia"
      ],
      "metadata": {
        "id": "Xvf-sI1ImaCM"
      }
    },
    {
      "cell_type": "code",
      "source": [
        "data = pd.read_csv('dili_padel_2d.csv')\n",
        "dataframe = pd.DataFrame(data)\n",
        "dataframe.head()"
      ],
      "metadata": {
        "colab": {
          "base_uri": "https://localhost:8080/",
          "height": 318
        },
        "id": "rlIgg1YupK-_",
        "outputId": "523950ba-6a66-4375-e3f7-8f77cd696c65"
      },
      "execution_count": null,
      "outputs": [
        {
          "output_type": "stream",
          "name": "stderr",
          "text": [
            "Columns (423,424,425,426,427,428,429,430,431,477,478,479,480,481,482,483,484,485,540,541,542,543,544,545,546,547,548,603,604,605,606,607,608,609,610,611,1012,1013,1050,1052,1074,1083,1084,1121,1123,1145,1217,1218,1219,1220,1222,1223,1224,1226,1227,1229) have mixed types.Specify dtype option on import or set low_memory=False.\n"
          ]
        },
        {
          "output_type": "execute_result",
          "data": {
            "text/plain": [
              "               ID         CommonName  Outcome  nAcid  naAromAtom  nAromBond  \\\n",
              "0  AUTOGEN_dili_1    Aurothioglucose        1      0           0          0   \n",
              "1  AUTOGEN_dili_2  DemecariumBromide        1      0          12         12   \n",
              "2  AUTOGEN_dili_3   Dextromethorphan        0      0           6          6   \n",
              "3  AUTOGEN_dili_4         Ergotamine        0      0          15         16   \n",
              "4  AUTOGEN_dili_5     Beclomethasone        0      0           0          0   \n",
              "\n",
              "   nB  nN  nO  nS  ...       AMW      WTPT1     WTPT2      WTPT3      WTPT4  \\\n",
              "0   0   0   5   1  ...  8.479683  23.078977  1.923248  15.422349  12.919448   \n",
              "1   0   4   4   0  ...  6.047814  78.841924  1.971048  24.051089  11.127775   \n",
              "2   0   1   1   0  ...  6.026525  42.041518  2.102076   6.134966   2.806398   \n",
              "3   0   5   5   0  ...  7.452100  90.264234  2.099168  30.004012  13.475249   \n",
              "4   0   0   5   0  ...  7.160883  56.562478  2.020089  15.115392  12.515759   \n",
              "\n",
              "       WTPT5  WPATH  WPOL  XLogP  Zagreb  \n",
              "0   0.000000    182    19 -1.807      58  \n",
              "1  12.923314   8054    55  7.024     194  \n",
              "2   3.328569    682    41  4.207     116  \n",
              "3  16.528762   6191    88  3.848     258  \n",
              "4   0.000000   1670    70  1.275     168  \n",
              "\n",
              "[5 rows x 1447 columns]"
            ],
            "text/html": [
              "\n",
              "  <div id=\"df-95bc05eb-8590-4aee-b9f1-8e0a200c25ec\">\n",
              "    <div class=\"colab-df-container\">\n",
              "      <div>\n",
              "<style scoped>\n",
              "    .dataframe tbody tr th:only-of-type {\n",
              "        vertical-align: middle;\n",
              "    }\n",
              "\n",
              "    .dataframe tbody tr th {\n",
              "        vertical-align: top;\n",
              "    }\n",
              "\n",
              "    .dataframe thead th {\n",
              "        text-align: right;\n",
              "    }\n",
              "</style>\n",
              "<table border=\"1\" class=\"dataframe\">\n",
              "  <thead>\n",
              "    <tr style=\"text-align: right;\">\n",
              "      <th></th>\n",
              "      <th>ID</th>\n",
              "      <th>CommonName</th>\n",
              "      <th>Outcome</th>\n",
              "      <th>nAcid</th>\n",
              "      <th>naAromAtom</th>\n",
              "      <th>nAromBond</th>\n",
              "      <th>nB</th>\n",
              "      <th>nN</th>\n",
              "      <th>nO</th>\n",
              "      <th>nS</th>\n",
              "      <th>...</th>\n",
              "      <th>AMW</th>\n",
              "      <th>WTPT1</th>\n",
              "      <th>WTPT2</th>\n",
              "      <th>WTPT3</th>\n",
              "      <th>WTPT4</th>\n",
              "      <th>WTPT5</th>\n",
              "      <th>WPATH</th>\n",
              "      <th>WPOL</th>\n",
              "      <th>XLogP</th>\n",
              "      <th>Zagreb</th>\n",
              "    </tr>\n",
              "  </thead>\n",
              "  <tbody>\n",
              "    <tr>\n",
              "      <th>0</th>\n",
              "      <td>AUTOGEN_dili_1</td>\n",
              "      <td>Aurothioglucose</td>\n",
              "      <td>1</td>\n",
              "      <td>0</td>\n",
              "      <td>0</td>\n",
              "      <td>0</td>\n",
              "      <td>0</td>\n",
              "      <td>0</td>\n",
              "      <td>5</td>\n",
              "      <td>1</td>\n",
              "      <td>...</td>\n",
              "      <td>8.479683</td>\n",
              "      <td>23.078977</td>\n",
              "      <td>1.923248</td>\n",
              "      <td>15.422349</td>\n",
              "      <td>12.919448</td>\n",
              "      <td>0.000000</td>\n",
              "      <td>182</td>\n",
              "      <td>19</td>\n",
              "      <td>-1.807</td>\n",
              "      <td>58</td>\n",
              "    </tr>\n",
              "    <tr>\n",
              "      <th>1</th>\n",
              "      <td>AUTOGEN_dili_2</td>\n",
              "      <td>DemecariumBromide</td>\n",
              "      <td>1</td>\n",
              "      <td>0</td>\n",
              "      <td>12</td>\n",
              "      <td>12</td>\n",
              "      <td>0</td>\n",
              "      <td>4</td>\n",
              "      <td>4</td>\n",
              "      <td>0</td>\n",
              "      <td>...</td>\n",
              "      <td>6.047814</td>\n",
              "      <td>78.841924</td>\n",
              "      <td>1.971048</td>\n",
              "      <td>24.051089</td>\n",
              "      <td>11.127775</td>\n",
              "      <td>12.923314</td>\n",
              "      <td>8054</td>\n",
              "      <td>55</td>\n",
              "      <td>7.024</td>\n",
              "      <td>194</td>\n",
              "    </tr>\n",
              "    <tr>\n",
              "      <th>2</th>\n",
              "      <td>AUTOGEN_dili_3</td>\n",
              "      <td>Dextromethorphan</td>\n",
              "      <td>0</td>\n",
              "      <td>0</td>\n",
              "      <td>6</td>\n",
              "      <td>6</td>\n",
              "      <td>0</td>\n",
              "      <td>1</td>\n",
              "      <td>1</td>\n",
              "      <td>0</td>\n",
              "      <td>...</td>\n",
              "      <td>6.026525</td>\n",
              "      <td>42.041518</td>\n",
              "      <td>2.102076</td>\n",
              "      <td>6.134966</td>\n",
              "      <td>2.806398</td>\n",
              "      <td>3.328569</td>\n",
              "      <td>682</td>\n",
              "      <td>41</td>\n",
              "      <td>4.207</td>\n",
              "      <td>116</td>\n",
              "    </tr>\n",
              "    <tr>\n",
              "      <th>3</th>\n",
              "      <td>AUTOGEN_dili_4</td>\n",
              "      <td>Ergotamine</td>\n",
              "      <td>0</td>\n",
              "      <td>0</td>\n",
              "      <td>15</td>\n",
              "      <td>16</td>\n",
              "      <td>0</td>\n",
              "      <td>5</td>\n",
              "      <td>5</td>\n",
              "      <td>0</td>\n",
              "      <td>...</td>\n",
              "      <td>7.452100</td>\n",
              "      <td>90.264234</td>\n",
              "      <td>2.099168</td>\n",
              "      <td>30.004012</td>\n",
              "      <td>13.475249</td>\n",
              "      <td>16.528762</td>\n",
              "      <td>6191</td>\n",
              "      <td>88</td>\n",
              "      <td>3.848</td>\n",
              "      <td>258</td>\n",
              "    </tr>\n",
              "    <tr>\n",
              "      <th>4</th>\n",
              "      <td>AUTOGEN_dili_5</td>\n",
              "      <td>Beclomethasone</td>\n",
              "      <td>0</td>\n",
              "      <td>0</td>\n",
              "      <td>0</td>\n",
              "      <td>0</td>\n",
              "      <td>0</td>\n",
              "      <td>0</td>\n",
              "      <td>5</td>\n",
              "      <td>0</td>\n",
              "      <td>...</td>\n",
              "      <td>7.160883</td>\n",
              "      <td>56.562478</td>\n",
              "      <td>2.020089</td>\n",
              "      <td>15.115392</td>\n",
              "      <td>12.515759</td>\n",
              "      <td>0.000000</td>\n",
              "      <td>1670</td>\n",
              "      <td>70</td>\n",
              "      <td>1.275</td>\n",
              "      <td>168</td>\n",
              "    </tr>\n",
              "  </tbody>\n",
              "</table>\n",
              "<p>5 rows × 1447 columns</p>\n",
              "</div>\n",
              "      <button class=\"colab-df-convert\" onclick=\"convertToInteractive('df-95bc05eb-8590-4aee-b9f1-8e0a200c25ec')\"\n",
              "              title=\"Convert this dataframe to an interactive table.\"\n",
              "              style=\"display:none;\">\n",
              "        \n",
              "  <svg xmlns=\"http://www.w3.org/2000/svg\" height=\"24px\"viewBox=\"0 0 24 24\"\n",
              "       width=\"24px\">\n",
              "    <path d=\"M0 0h24v24H0V0z\" fill=\"none\"/>\n",
              "    <path d=\"M18.56 5.44l.94 2.06.94-2.06 2.06-.94-2.06-.94-.94-2.06-.94 2.06-2.06.94zm-11 1L8.5 8.5l.94-2.06 2.06-.94-2.06-.94L8.5 2.5l-.94 2.06-2.06.94zm10 10l.94 2.06.94-2.06 2.06-.94-2.06-.94-.94-2.06-.94 2.06-2.06.94z\"/><path d=\"M17.41 7.96l-1.37-1.37c-.4-.4-.92-.59-1.43-.59-.52 0-1.04.2-1.43.59L10.3 9.45l-7.72 7.72c-.78.78-.78 2.05 0 2.83L4 21.41c.39.39.9.59 1.41.59.51 0 1.02-.2 1.41-.59l7.78-7.78 2.81-2.81c.8-.78.8-2.07 0-2.86zM5.41 20L4 18.59l7.72-7.72 1.47 1.35L5.41 20z\"/>\n",
              "  </svg>\n",
              "      </button>\n",
              "      \n",
              "  <style>\n",
              "    .colab-df-container {\n",
              "      display:flex;\n",
              "      flex-wrap:wrap;\n",
              "      gap: 12px;\n",
              "    }\n",
              "\n",
              "    .colab-df-convert {\n",
              "      background-color: #E8F0FE;\n",
              "      border: none;\n",
              "      border-radius: 50%;\n",
              "      cursor: pointer;\n",
              "      display: none;\n",
              "      fill: #1967D2;\n",
              "      height: 32px;\n",
              "      padding: 0 0 0 0;\n",
              "      width: 32px;\n",
              "    }\n",
              "\n",
              "    .colab-df-convert:hover {\n",
              "      background-color: #E2EBFA;\n",
              "      box-shadow: 0px 1px 2px rgba(60, 64, 67, 0.3), 0px 1px 3px 1px rgba(60, 64, 67, 0.15);\n",
              "      fill: #174EA6;\n",
              "    }\n",
              "\n",
              "    [theme=dark] .colab-df-convert {\n",
              "      background-color: #3B4455;\n",
              "      fill: #D2E3FC;\n",
              "    }\n",
              "\n",
              "    [theme=dark] .colab-df-convert:hover {\n",
              "      background-color: #434B5C;\n",
              "      box-shadow: 0px 1px 3px 1px rgba(0, 0, 0, 0.15);\n",
              "      filter: drop-shadow(0px 1px 2px rgba(0, 0, 0, 0.3));\n",
              "      fill: #FFFFFF;\n",
              "    }\n",
              "  </style>\n",
              "\n",
              "      <script>\n",
              "        const buttonEl =\n",
              "          document.querySelector('#df-95bc05eb-8590-4aee-b9f1-8e0a200c25ec button.colab-df-convert');\n",
              "        buttonEl.style.display =\n",
              "          google.colab.kernel.accessAllowed ? 'block' : 'none';\n",
              "\n",
              "        async function convertToInteractive(key) {\n",
              "          const element = document.querySelector('#df-95bc05eb-8590-4aee-b9f1-8e0a200c25ec');\n",
              "          const dataTable =\n",
              "            await google.colab.kernel.invokeFunction('convertToInteractive',\n",
              "                                                     [key], {});\n",
              "          if (!dataTable) return;\n",
              "\n",
              "          const docLinkHtml = 'Like what you see? Visit the ' +\n",
              "            '<a target=\"_blank\" href=https://colab.research.google.com/notebooks/data_table.ipynb>data table notebook</a>'\n",
              "            + ' to learn more about interactive tables.';\n",
              "          element.innerHTML = '';\n",
              "          dataTable['output_type'] = 'display_data';\n",
              "          await google.colab.output.renderOutput(dataTable, element);\n",
              "          const docLink = document.createElement('div');\n",
              "          docLink.innerHTML = docLinkHtml;\n",
              "          element.appendChild(docLink);\n",
              "        }\n",
              "      </script>\n",
              "    </div>\n",
              "  </div>\n",
              "  "
            ]
          },
          "metadata": {},
          "execution_count": 7
        }
      ]
    },
    {
      "cell_type": "markdown",
      "source": [
        "check for duplicate values in the dataframe. I removed the code, have to do it again."
      ],
      "metadata": {
        "id": "If5eC3nAnmJu"
      }
    },
    {
      "cell_type": "code",
      "source": [
        "drop_outcome = dataframe.drop([\"Outcome\"], axis = 1)\n",
        "duplicate = drop_outcome[drop_outcome.duplicated()]\n",
        "duplicate\n",
        "# drop_outcome no duplicates with all descriptors\n",
        "# check duplicate smiles\n",
        "print(\"Length of list:%d\\nlength of set:%d\\n\" %(len(smileslist), len(set(smileslist))))\n",
        "print(\"dataframe duplicates\", duplicate)"
      ],
      "metadata": {
        "colab": {
          "base_uri": "https://localhost:8080/"
        },
        "id": "b_k2HQ5JR7LM",
        "outputId": "f59f644c-fe83-4845-ba56-374be225ec9f"
      },
      "execution_count": null,
      "outputs": [
        {
          "output_type": "stream",
          "name": "stdout",
          "text": [
            "Length of list:588\n",
            "length of set:587\n",
            "\n",
            "dataframe duplicates Empty DataFrame\n",
            "Columns: [ID, CommonName, nAcid, naAromAtom, nAromBond, nB, nN, nO, nS, nP, nF, nCl, nBr, nI, nX, nBase, nBondsD, nBondsD2, nBondsT, nBondsQ, C1SP1, C2SP1, C1SP2, C2SP2, C3SP2, C1SP3, C2SP3, C3SP3, C4SP3, nHBd, nwHBd, nHBint2, nHBint3, nHBint4, nHBint5, nHBint6, nHBint7, nHBint9, nHBint10, nHsOH, nHdNH, nHsSH, nHsNH2, nHssNH, nHaaNH, nHsNH3p, nHssNH2p, nHsssNHp, nHtCH, nHdCH2, nHdsCH, nHaaCH, nHCHnX, nHCsatu, nHAvin, nHother, nHmisc, nsLi, nssBe, nssssBem, nsBH2, nssBH, nsssB, nssssBm, nsCH3, ndCH2, nssCH2, ntCH, ndsCH, naaCH, nsssCH, nddC, ntsC, ndssC, naasC, naaaC, nssssC, nsNH3p, nsNH2, nssNH2p, ndNH, nssNH, naaNH, ntN, nsssNHp, ndsN, naaN, nsssN, nddsN, naasN, nssssNp, nsOH, ndO, nssO, naaO, naOm, nsOm, nsF, nsSiH3, nssSiH2, ...]\n",
            "Index: []\n",
            "\n",
            "[0 rows x 1446 columns]\n"
          ]
        }
      ]
    },
    {
      "cell_type": "code",
      "source": [
        "setOfElems = set()\n",
        "for elem in smileslist:\n",
        "        if elem in setOfElems:\n",
        "            print(\"duplicate smile in smile csv\",elem)\n",
        "        else:\n",
        "            setOfElems.add(elem)  "
      ],
      "metadata": {
        "colab": {
          "base_uri": "https://localhost:8080/"
        },
        "id": "Cun0TMQJh4lU",
        "outputId": "593f7cdf-c107-448d-84dc-58c42e9bdc32"
      },
      "execution_count": null,
      "outputs": [
        {
          "output_type": "stream",
          "name": "stdout",
          "text": [
            "OC(=O)c1cccnc1\n"
          ]
        }
      ]
    },
    {
      "cell_type": "code",
      "source": [
        "y = dataframe['Outcome']\n",
        "# y['target']= dataframe.iloc[:,2]\n",
        "print('shape and type', y.shape, type(y))"
      ],
      "metadata": {
        "colab": {
          "base_uri": "https://localhost:8080/"
        },
        "id": "fHIaluxlrEbn",
        "outputId": "25b3cc02-c216-4aeb-ab45-b8b9126ab3e6"
      },
      "execution_count": null,
      "outputs": [
        {
          "output_type": "stream",
          "name": "stdout",
          "text": [
            "shape and type (588,) <class 'pandas.core.series.Series'>\n"
          ]
        }
      ]
    },
    {
      "cell_type": "markdown",
      "source": [
        "# Word to Vector"
      ],
      "metadata": {
        "id": "Gvza7KuBEfNf"
      }
    },
    {
      "cell_type": "markdown",
      "source": [
        "\n",
        "\n",
        "*    load a pre-trained mol2vec model. It's trained with radius=1 for Morgan fingerprints to yield 300 dimensional embeddings\n",
        "\n",
        "\n"
      ],
      "metadata": {
        "id": "n6KHLNEbTruK"
      }
    },
    {
      "cell_type": "code",
      "source": [
        "model = word2vec.Word2Vec.load('../model_300dim_eric.pkl')"
      ],
      "metadata": {
        "id": "ckD9wMsZOBv9"
      },
      "execution_count": null,
      "outputs": []
    },
    {
      "cell_type": "code",
      "source": [
        "from mol2vec.features import mol2alt_sentence, mol2sentence, MolSentence,DfVec, sentences2vec\n",
        "import numpy as np"
      ],
      "metadata": {
        "id": "ymvrjM1sa0kz"
      },
      "execution_count": null,
      "outputs": []
    },
    {
      "cell_type": "code",
      "source": [
        "smilescsv['mol'] = smilescsv['col_smiles'].apply(lambda x: Chem.MolFromSmiles(x)) \n"
      ],
      "metadata": {
        "id": "kx54GBA916RD"
      },
      "execution_count": null,
      "outputs": []
    },
    {
      "cell_type": "markdown",
      "source": [
        "\n",
        "\n",
        "*   mol2alt_sentence() constructs a so-called 'molecular sentence' with desired Morgan fingerprints' radius (uses RDkit backend) where 'words' are unique substructure identifiers; MolSentence() is an internal wrapper function; \n",
        "\n",
        "*   sentences2vec() generates molecular embeddings with the help of the trained model; DfVec() is an internal wrapper for embeddings' generator (attribute .vec yields aggregated vectors).\n",
        "\n",
        "\n"
      ],
      "metadata": {
        "id": "8Khb1MRdSvxm"
      }
    },
    {
      "cell_type": "code",
      "source": [
        "smilescsv['sentence'] = smilescsv.apply(lambda x: MolSentence(mol2alt_sentence(x['mol'], 1)), axis=1)\n",
        "smilescsv['mol2vec'] = [DfVec(x) for x in sentences2vec(smilescsv['sentence'], model, unseen='UNK')]"
      ],
      "metadata": {
        "id": "0WtvFEdMbF-S"
      },
      "execution_count": null,
      "outputs": []
    },
    {
      "cell_type": "code",
      "source": [
        "#the shape of the X must have 300 rather than 100 because the model is 300 dimensions??\n",
        "# X = np.array([x.vec for x in smilescsv['mol2vec']])\n",
        "# del X\n",
        "X = np.array([x.vec for x in smilescsv['mol2vec']])\n",
        "\n",
        "print('shape and type',X.shape, type(X), X)"
      ],
      "metadata": {
        "colab": {
          "base_uri": "https://localhost:8080/"
        },
        "id": "mzFXsc4ob6o_",
        "outputId": "53e5f9f7-02f2-431a-bf11-9050dc44f5da"
      },
      "execution_count": null,
      "outputs": [
        {
          "output_type": "stream",
          "name": "stdout",
          "text": [
            "shape and type (588, 300) <class 'numpy.ndarray'> [[  1.5785058   -4.2252035   -3.6844869  ...  -3.6743457   -9.272826\n",
            "    2.1444242 ]\n",
            " [  4.622829    -4.915413    -6.346806   ... -13.368401   -17.19497\n",
            "   -3.2710881 ]\n",
            " [  0.6792828   -3.096483    -0.46020362 ...  -2.7240472   -9.070516\n",
            "    0.19057192]\n",
            " ...\n",
            " [  3.7899497   -3.7518232   -0.91790193 ...  -8.731583   -13.732884\n",
            "   -4.6143656 ]\n",
            " [ -2.8500965    1.8607624    1.4684141  ...  -2.2298014   -4.41306\n",
            "   -6.536581  ]\n",
            " [ -3.0465262   -0.1431011   -1.0731335  ... -16.938929   -19.690495\n",
            "   -6.5446453 ]]\n"
          ]
        }
      ]
    },
    {
      "cell_type": "code",
      "source": [
        "checkX= pd.DataFrame(X)\n",
        "checkX.head()"
      ],
      "metadata": {
        "colab": {
          "base_uri": "https://localhost:8080/",
          "height": 299
        },
        "id": "U0dPIVaDEd-R",
        "outputId": "669b7228-6a1c-476b-87fa-cd1ec9e92b3e"
      },
      "execution_count": null,
      "outputs": [
        {
          "output_type": "execute_result",
          "data": {
            "text/plain": [
              "          0          1          2          3          4          5   \\\n",
              "0  -4.845266   2.342194  -2.365556  -2.712993  -4.856701  -2.352966   \n",
              "1   0.005262   3.893001 -13.113170  -0.800969  -4.134776 -14.333963   \n",
              "2  -1.032504   2.843993  -0.792036  -8.111418  -7.473220  -5.398043   \n",
              "3   2.475980   4.848641  -2.299567 -12.915607 -18.538816 -14.016421   \n",
              "4 -14.565528  13.046351  -9.077509 -18.810884  -8.828866 -10.246983   \n",
              "\n",
              "          6          7          8          9   ...         90         91  \\\n",
              "0   0.278307  -4.341275   6.405187  -3.304002  ...   6.299218   1.387789   \n",
              "1 -19.066595 -18.694887 -12.683990 -20.209694  ...  34.971222  13.848557   \n",
              "2  -7.469626 -10.879922  -2.835202  -3.248640  ...  16.322193   0.372131   \n",
              "3 -13.259410 -15.377983  -6.439005  -5.219620  ...  29.750200   4.826057   \n",
              "4  -8.309449  -5.161047   3.537268  -4.689940  ...  28.473900  -0.357428   \n",
              "\n",
              "          92         93         94         95         96         97  \\\n",
              "0  -3.142272 -11.094283  13.716575  -7.537609   0.644480  -0.973483   \n",
              "1   6.648724 -37.087585  21.440086 -31.448326   9.109692  20.049501   \n",
              "2  -6.487584 -12.283837  11.356331 -16.771866   6.005531  11.109912   \n",
              "3 -11.601947 -26.687702  22.835144 -37.689392  13.851109  22.583904   \n",
              "4 -10.854393 -22.084314  26.352062 -21.327965  17.122334   3.933175   \n",
              "\n",
              "          98         99  \n",
              "0 -14.757071   3.395199  \n",
              "1 -21.226118 -11.819835  \n",
              "2  -8.625827   0.519091  \n",
              "3 -24.776945  -5.541135  \n",
              "4 -23.742367   0.496415  \n",
              "\n",
              "[5 rows x 100 columns]"
            ],
            "text/html": [
              "\n",
              "  <div id=\"df-56baf8e8-44f9-4e97-addd-d915317d18d4\">\n",
              "    <div class=\"colab-df-container\">\n",
              "      <div>\n",
              "<style scoped>\n",
              "    .dataframe tbody tr th:only-of-type {\n",
              "        vertical-align: middle;\n",
              "    }\n",
              "\n",
              "    .dataframe tbody tr th {\n",
              "        vertical-align: top;\n",
              "    }\n",
              "\n",
              "    .dataframe thead th {\n",
              "        text-align: right;\n",
              "    }\n",
              "</style>\n",
              "<table border=\"1\" class=\"dataframe\">\n",
              "  <thead>\n",
              "    <tr style=\"text-align: right;\">\n",
              "      <th></th>\n",
              "      <th>0</th>\n",
              "      <th>1</th>\n",
              "      <th>2</th>\n",
              "      <th>3</th>\n",
              "      <th>4</th>\n",
              "      <th>5</th>\n",
              "      <th>6</th>\n",
              "      <th>7</th>\n",
              "      <th>8</th>\n",
              "      <th>9</th>\n",
              "      <th>...</th>\n",
              "      <th>90</th>\n",
              "      <th>91</th>\n",
              "      <th>92</th>\n",
              "      <th>93</th>\n",
              "      <th>94</th>\n",
              "      <th>95</th>\n",
              "      <th>96</th>\n",
              "      <th>97</th>\n",
              "      <th>98</th>\n",
              "      <th>99</th>\n",
              "    </tr>\n",
              "  </thead>\n",
              "  <tbody>\n",
              "    <tr>\n",
              "      <th>0</th>\n",
              "      <td>-4.845266</td>\n",
              "      <td>2.342194</td>\n",
              "      <td>-2.365556</td>\n",
              "      <td>-2.712993</td>\n",
              "      <td>-4.856701</td>\n",
              "      <td>-2.352966</td>\n",
              "      <td>0.278307</td>\n",
              "      <td>-4.341275</td>\n",
              "      <td>6.405187</td>\n",
              "      <td>-3.304002</td>\n",
              "      <td>...</td>\n",
              "      <td>6.299218</td>\n",
              "      <td>1.387789</td>\n",
              "      <td>-3.142272</td>\n",
              "      <td>-11.094283</td>\n",
              "      <td>13.716575</td>\n",
              "      <td>-7.537609</td>\n",
              "      <td>0.644480</td>\n",
              "      <td>-0.973483</td>\n",
              "      <td>-14.757071</td>\n",
              "      <td>3.395199</td>\n",
              "    </tr>\n",
              "    <tr>\n",
              "      <th>1</th>\n",
              "      <td>0.005262</td>\n",
              "      <td>3.893001</td>\n",
              "      <td>-13.113170</td>\n",
              "      <td>-0.800969</td>\n",
              "      <td>-4.134776</td>\n",
              "      <td>-14.333963</td>\n",
              "      <td>-19.066595</td>\n",
              "      <td>-18.694887</td>\n",
              "      <td>-12.683990</td>\n",
              "      <td>-20.209694</td>\n",
              "      <td>...</td>\n",
              "      <td>34.971222</td>\n",
              "      <td>13.848557</td>\n",
              "      <td>6.648724</td>\n",
              "      <td>-37.087585</td>\n",
              "      <td>21.440086</td>\n",
              "      <td>-31.448326</td>\n",
              "      <td>9.109692</td>\n",
              "      <td>20.049501</td>\n",
              "      <td>-21.226118</td>\n",
              "      <td>-11.819835</td>\n",
              "    </tr>\n",
              "    <tr>\n",
              "      <th>2</th>\n",
              "      <td>-1.032504</td>\n",
              "      <td>2.843993</td>\n",
              "      <td>-0.792036</td>\n",
              "      <td>-8.111418</td>\n",
              "      <td>-7.473220</td>\n",
              "      <td>-5.398043</td>\n",
              "      <td>-7.469626</td>\n",
              "      <td>-10.879922</td>\n",
              "      <td>-2.835202</td>\n",
              "      <td>-3.248640</td>\n",
              "      <td>...</td>\n",
              "      <td>16.322193</td>\n",
              "      <td>0.372131</td>\n",
              "      <td>-6.487584</td>\n",
              "      <td>-12.283837</td>\n",
              "      <td>11.356331</td>\n",
              "      <td>-16.771866</td>\n",
              "      <td>6.005531</td>\n",
              "      <td>11.109912</td>\n",
              "      <td>-8.625827</td>\n",
              "      <td>0.519091</td>\n",
              "    </tr>\n",
              "    <tr>\n",
              "      <th>3</th>\n",
              "      <td>2.475980</td>\n",
              "      <td>4.848641</td>\n",
              "      <td>-2.299567</td>\n",
              "      <td>-12.915607</td>\n",
              "      <td>-18.538816</td>\n",
              "      <td>-14.016421</td>\n",
              "      <td>-13.259410</td>\n",
              "      <td>-15.377983</td>\n",
              "      <td>-6.439005</td>\n",
              "      <td>-5.219620</td>\n",
              "      <td>...</td>\n",
              "      <td>29.750200</td>\n",
              "      <td>4.826057</td>\n",
              "      <td>-11.601947</td>\n",
              "      <td>-26.687702</td>\n",
              "      <td>22.835144</td>\n",
              "      <td>-37.689392</td>\n",
              "      <td>13.851109</td>\n",
              "      <td>22.583904</td>\n",
              "      <td>-24.776945</td>\n",
              "      <td>-5.541135</td>\n",
              "    </tr>\n",
              "    <tr>\n",
              "      <th>4</th>\n",
              "      <td>-14.565528</td>\n",
              "      <td>13.046351</td>\n",
              "      <td>-9.077509</td>\n",
              "      <td>-18.810884</td>\n",
              "      <td>-8.828866</td>\n",
              "      <td>-10.246983</td>\n",
              "      <td>-8.309449</td>\n",
              "      <td>-5.161047</td>\n",
              "      <td>3.537268</td>\n",
              "      <td>-4.689940</td>\n",
              "      <td>...</td>\n",
              "      <td>28.473900</td>\n",
              "      <td>-0.357428</td>\n",
              "      <td>-10.854393</td>\n",
              "      <td>-22.084314</td>\n",
              "      <td>26.352062</td>\n",
              "      <td>-21.327965</td>\n",
              "      <td>17.122334</td>\n",
              "      <td>3.933175</td>\n",
              "      <td>-23.742367</td>\n",
              "      <td>0.496415</td>\n",
              "    </tr>\n",
              "  </tbody>\n",
              "</table>\n",
              "<p>5 rows × 100 columns</p>\n",
              "</div>\n",
              "      <button class=\"colab-df-convert\" onclick=\"convertToInteractive('df-56baf8e8-44f9-4e97-addd-d915317d18d4')\"\n",
              "              title=\"Convert this dataframe to an interactive table.\"\n",
              "              style=\"display:none;\">\n",
              "        \n",
              "  <svg xmlns=\"http://www.w3.org/2000/svg\" height=\"24px\"viewBox=\"0 0 24 24\"\n",
              "       width=\"24px\">\n",
              "    <path d=\"M0 0h24v24H0V0z\" fill=\"none\"/>\n",
              "    <path d=\"M18.56 5.44l.94 2.06.94-2.06 2.06-.94-2.06-.94-.94-2.06-.94 2.06-2.06.94zm-11 1L8.5 8.5l.94-2.06 2.06-.94-2.06-.94L8.5 2.5l-.94 2.06-2.06.94zm10 10l.94 2.06.94-2.06 2.06-.94-2.06-.94-.94-2.06-.94 2.06-2.06.94z\"/><path d=\"M17.41 7.96l-1.37-1.37c-.4-.4-.92-.59-1.43-.59-.52 0-1.04.2-1.43.59L10.3 9.45l-7.72 7.72c-.78.78-.78 2.05 0 2.83L4 21.41c.39.39.9.59 1.41.59.51 0 1.02-.2 1.41-.59l7.78-7.78 2.81-2.81c.8-.78.8-2.07 0-2.86zM5.41 20L4 18.59l7.72-7.72 1.47 1.35L5.41 20z\"/>\n",
              "  </svg>\n",
              "      </button>\n",
              "      \n",
              "  <style>\n",
              "    .colab-df-container {\n",
              "      display:flex;\n",
              "      flex-wrap:wrap;\n",
              "      gap: 12px;\n",
              "    }\n",
              "\n",
              "    .colab-df-convert {\n",
              "      background-color: #E8F0FE;\n",
              "      border: none;\n",
              "      border-radius: 50%;\n",
              "      cursor: pointer;\n",
              "      display: none;\n",
              "      fill: #1967D2;\n",
              "      height: 32px;\n",
              "      padding: 0 0 0 0;\n",
              "      width: 32px;\n",
              "    }\n",
              "\n",
              "    .colab-df-convert:hover {\n",
              "      background-color: #E2EBFA;\n",
              "      box-shadow: 0px 1px 2px rgba(60, 64, 67, 0.3), 0px 1px 3px 1px rgba(60, 64, 67, 0.15);\n",
              "      fill: #174EA6;\n",
              "    }\n",
              "\n",
              "    [theme=dark] .colab-df-convert {\n",
              "      background-color: #3B4455;\n",
              "      fill: #D2E3FC;\n",
              "    }\n",
              "\n",
              "    [theme=dark] .colab-df-convert:hover {\n",
              "      background-color: #434B5C;\n",
              "      box-shadow: 0px 1px 3px 1px rgba(0, 0, 0, 0.15);\n",
              "      filter: drop-shadow(0px 1px 2px rgba(0, 0, 0, 0.3));\n",
              "      fill: #FFFFFF;\n",
              "    }\n",
              "  </style>\n",
              "\n",
              "      <script>\n",
              "        const buttonEl =\n",
              "          document.querySelector('#df-56baf8e8-44f9-4e97-addd-d915317d18d4 button.colab-df-convert');\n",
              "        buttonEl.style.display =\n",
              "          google.colab.kernel.accessAllowed ? 'block' : 'none';\n",
              "\n",
              "        async function convertToInteractive(key) {\n",
              "          const element = document.querySelector('#df-56baf8e8-44f9-4e97-addd-d915317d18d4');\n",
              "          const dataTable =\n",
              "            await google.colab.kernel.invokeFunction('convertToInteractive',\n",
              "                                                     [key], {});\n",
              "          if (!dataTable) return;\n",
              "\n",
              "          const docLinkHtml = 'Like what you see? Visit the ' +\n",
              "            '<a target=\"_blank\" href=https://colab.research.google.com/notebooks/data_table.ipynb>data table notebook</a>'\n",
              "            + ' to learn more about interactive tables.';\n",
              "          element.innerHTML = '';\n",
              "          dataTable['output_type'] = 'display_data';\n",
              "          await google.colab.output.renderOutput(dataTable, element);\n",
              "          const docLink = document.createElement('div');\n",
              "          docLink.innerHTML = docLinkHtml;\n",
              "          element.appendChild(docLink);\n",
              "        }\n",
              "      </script>\n",
              "    </div>\n",
              "  </div>\n",
              "  "
            ]
          },
          "metadata": {},
          "execution_count": 13
        }
      ]
    },
    {
      "cell_type": "code",
      "source": [
        "x_train, x_test, y_train, y_test = train_test_split(X,y,test_size=0.20)"
      ],
      "metadata": {
        "id": "1vDcEQUfKsEd"
      },
      "execution_count": null,
      "outputs": []
    },
    {
      "cell_type": "code",
      "source": [
        "y_train.size\n",
        "# len(x_train)\n",
        "# x_train"
      ],
      "metadata": {
        "colab": {
          "base_uri": "https://localhost:8080/"
        },
        "id": "gd4_adEwN8m-",
        "outputId": "2c7152cc-850e-42ba-f6b6-583c94586b5c"
      },
      "execution_count": null,
      "outputs": [
        {
          "output_type": "execute_result",
          "data": {
            "text/plain": [
              "array([[  8.305094  ,   1.1954285 ,  -2.4597409 , ...,  11.172375  ,\n",
              "        -25.481987  ,  -3.1788335 ],\n",
              "       [-12.357057  ,   9.686745  , -10.118664  , ...,   2.3198795 ,\n",
              "        -24.71598   ,   2.3880022 ],\n",
              "       [  0.5532492 ,  -0.19428855,  -0.72879493, ...,  18.069597  ,\n",
              "         -7.413022  ,  -5.2563114 ],\n",
              "       ...,\n",
              "       [ -1.6007338 ,  -0.44501156,  -2.3017435 , ...,   2.627388  ,\n",
              "         -2.495544  ,  -2.1560957 ],\n",
              "       [  1.5146053 ,  -1.4057201 ,  -0.29111087, ...,  10.484504  ,\n",
              "         -8.069651  ,  -1.6734446 ],\n",
              "       [  6.327439  ,  -0.401002  ,  -0.26561865, ...,  13.180579  ,\n",
              "        -12.863239  ,  -3.7406812 ]], dtype=float32)"
            ]
          },
          "metadata": {},
          "execution_count": 25
        }
      ]
    },
    {
      "cell_type": "code",
      "source": [
        "# automl = false\n",
        "print(\"AUROC\", auc(fprmd, tprmd))"
      ],
      "metadata": {
        "colab": {
          "base_uri": "https://localhost:8080/"
        },
        "id": "irH4taG8XJ_2",
        "outputId": "85fe6559-6f82-4d88-e493-076ff8a034df"
      },
      "execution_count": null,
      "outputs": [
        {
          "output_type": "stream",
          "name": "stdout",
          "text": [
            "AUROC 0.5905797101449276\n"
          ]
        }
      ]
    },
    {
      "cell_type": "markdown",
      "source": [
        "classification using random forest classifier"
      ],
      "metadata": {
        "id": "9Dm-y6cyv2U-"
      }
    },
    {
      "cell_type": "code",
      "source": [
        "from sklearn.ensemble import RandomForestClassifier\n",
        "\n",
        "rfclf = RandomForestClassifier(max_depth=2, random_state=0)\n",
        "cross_val_score(rfclf, X, y, cv=10)"
      ],
      "metadata": {
        "colab": {
          "base_uri": "https://localhost:8080/"
        },
        "id": "wbLYRZFBv65y",
        "outputId": "2257744c-61fb-4832-c49e-a17433ebd4df"
      },
      "execution_count": null,
      "outputs": [
        {
          "output_type": "execute_result",
          "data": {
            "text/plain": [
              "array([0.69491525, 0.74576271, 0.66101695, 0.6779661 , 0.66101695,\n",
              "       0.66101695, 0.69491525, 0.66101695, 0.67241379, 0.68965517])"
            ]
          },
          "metadata": {},
          "execution_count": 19
        }
      ]
    },
    {
      "cell_type": "code",
      "source": [
        "#performance on train set\n",
        "rfclf.fit(X,y)\n",
        "rf_hat = rfclf.predict()"
      ],
      "metadata": {
        "id": "FfjfNjjrz9cH"
      },
      "execution_count": null,
      "outputs": []
    },
    {
      "cell_type": "markdown",
      "source": [
        "classification using SVC"
      ],
      "metadata": {
        "id": "OYIjcK5MN4oY"
      }
    },
    {
      "cell_type": "code",
      "source": [
        "from sklearn.svm import SVC"
      ],
      "metadata": {
        "id": "gwnuxaG4OKcS"
      },
      "execution_count": null,
      "outputs": []
    },
    {
      "cell_type": "code",
      "source": [
        "svcmodel = SVC(kernel='linear')\n",
        "svcmodel.fit(x_train, y_train)\n",
        "y_hat = svcmodel.predict(x_test)"
      ],
      "metadata": {
        "id": "upOzDOIMOME4"
      },
      "execution_count": null,
      "outputs": []
    },
    {
      "cell_type": "code",
      "source": [
        "fprmd, tprmd, _ = roc_curve(y_test, y_hat,  pos_label = 1)\n",
        "print('area under the curve',auc(fprmd, tprmd))\n",
        "cross_val_score(svcmodel, X, y, cv=10)"
      ],
      "metadata": {
        "colab": {
          "base_uri": "https://localhost:8080/"
        },
        "id": "eyxot-8qO34S",
        "outputId": "2584a523-da92-4169-9708-fadaa1cc5d66"
      },
      "execution_count": null,
      "outputs": [
        {
          "output_type": "stream",
          "name": "stdout",
          "text": [
            "area under the curve 0.524671052631579\n"
          ]
        },
        {
          "output_type": "execute_result",
          "data": {
            "text/plain": [
              "array([0.59322034, 0.71186441, 0.6440678 , 0.66101695, 0.69491525,\n",
              "       0.59322034, 0.59322034, 0.61016949, 0.68965517, 0.62068966])"
            ]
          },
          "metadata": {},
          "execution_count": 28
        }
      ]
    },
    {
      "cell_type": "markdown",
      "source": [
        "classification using logistic regression"
      ],
      "metadata": {
        "id": "1SBFm4JF_1VQ"
      }
    },
    {
      "cell_type": "code",
      "source": [
        "from sklearn.linear_model import LogisticRegression\n",
        "\n",
        "# clf = LogisticRegression(random_state=0).fit(x_train, y_train)\n",
        "# y_hat_lr = clf.predict(x_test)\n",
        "# fprmdlr, tprmdlr, th = roc_curve(y_test, y_hat,  pos_label = 1)\n",
        "\n",
        "# print(auc(fprmdlr, tprmdlr))\n",
        "clflrcv = LogisticRegression(random_state=0)\n",
        "cross_val_score(clflrcv, X, y, cv=10)"
      ],
      "metadata": {
        "colab": {
          "base_uri": "https://localhost:8080/"
        },
        "id": "bgzFTV12QXFQ",
        "outputId": "4a0a7147-38c4-4671-e173-df7c0c54d2a3"
      },
      "execution_count": null,
      "outputs": [
        {
          "output_type": "stream",
          "name": "stderr",
          "text": [
            "lbfgs failed to converge (status=1):\n",
            "STOP: TOTAL NO. of ITERATIONS REACHED LIMIT.\n",
            "\n",
            "Increase the number of iterations (max_iter) or scale the data as shown in:\n",
            "    https://scikit-learn.org/stable/modules/preprocessing.html\n",
            "Please also refer to the documentation for alternative solver options:\n",
            "    https://scikit-learn.org/stable/modules/linear_model.html#logistic-regression\n",
            "lbfgs failed to converge (status=1):\n",
            "STOP: TOTAL NO. of ITERATIONS REACHED LIMIT.\n",
            "\n",
            "Increase the number of iterations (max_iter) or scale the data as shown in:\n",
            "    https://scikit-learn.org/stable/modules/preprocessing.html\n",
            "Please also refer to the documentation for alternative solver options:\n",
            "    https://scikit-learn.org/stable/modules/linear_model.html#logistic-regression\n",
            "lbfgs failed to converge (status=1):\n",
            "STOP: TOTAL NO. of ITERATIONS REACHED LIMIT.\n",
            "\n",
            "Increase the number of iterations (max_iter) or scale the data as shown in:\n",
            "    https://scikit-learn.org/stable/modules/preprocessing.html\n",
            "Please also refer to the documentation for alternative solver options:\n",
            "    https://scikit-learn.org/stable/modules/linear_model.html#logistic-regression\n",
            "lbfgs failed to converge (status=1):\n",
            "STOP: TOTAL NO. of ITERATIONS REACHED LIMIT.\n",
            "\n",
            "Increase the number of iterations (max_iter) or scale the data as shown in:\n",
            "    https://scikit-learn.org/stable/modules/preprocessing.html\n",
            "Please also refer to the documentation for alternative solver options:\n",
            "    https://scikit-learn.org/stable/modules/linear_model.html#logistic-regression\n",
            "lbfgs failed to converge (status=1):\n",
            "STOP: TOTAL NO. of ITERATIONS REACHED LIMIT.\n",
            "\n",
            "Increase the number of iterations (max_iter) or scale the data as shown in:\n",
            "    https://scikit-learn.org/stable/modules/preprocessing.html\n",
            "Please also refer to the documentation for alternative solver options:\n",
            "    https://scikit-learn.org/stable/modules/linear_model.html#logistic-regression\n",
            "lbfgs failed to converge (status=1):\n",
            "STOP: TOTAL NO. of ITERATIONS REACHED LIMIT.\n",
            "\n",
            "Increase the number of iterations (max_iter) or scale the data as shown in:\n",
            "    https://scikit-learn.org/stable/modules/preprocessing.html\n",
            "Please also refer to the documentation for alternative solver options:\n",
            "    https://scikit-learn.org/stable/modules/linear_model.html#logistic-regression\n",
            "lbfgs failed to converge (status=1):\n",
            "STOP: TOTAL NO. of ITERATIONS REACHED LIMIT.\n",
            "\n",
            "Increase the number of iterations (max_iter) or scale the data as shown in:\n",
            "    https://scikit-learn.org/stable/modules/preprocessing.html\n",
            "Please also refer to the documentation for alternative solver options:\n",
            "    https://scikit-learn.org/stable/modules/linear_model.html#logistic-regression\n",
            "lbfgs failed to converge (status=1):\n",
            "STOP: TOTAL NO. of ITERATIONS REACHED LIMIT.\n",
            "\n",
            "Increase the number of iterations (max_iter) or scale the data as shown in:\n",
            "    https://scikit-learn.org/stable/modules/preprocessing.html\n",
            "Please also refer to the documentation for alternative solver options:\n",
            "    https://scikit-learn.org/stable/modules/linear_model.html#logistic-regression\n",
            "lbfgs failed to converge (status=1):\n",
            "STOP: TOTAL NO. of ITERATIONS REACHED LIMIT.\n",
            "\n",
            "Increase the number of iterations (max_iter) or scale the data as shown in:\n",
            "    https://scikit-learn.org/stable/modules/preprocessing.html\n",
            "Please also refer to the documentation for alternative solver options:\n",
            "    https://scikit-learn.org/stable/modules/linear_model.html#logistic-regression\n",
            "lbfgs failed to converge (status=1):\n",
            "STOP: TOTAL NO. of ITERATIONS REACHED LIMIT.\n",
            "\n",
            "Increase the number of iterations (max_iter) or scale the data as shown in:\n",
            "    https://scikit-learn.org/stable/modules/preprocessing.html\n",
            "Please also refer to the documentation for alternative solver options:\n",
            "    https://scikit-learn.org/stable/modules/linear_model.html#logistic-regression\n"
          ]
        },
        {
          "output_type": "execute_result",
          "data": {
            "text/plain": [
              "array([0.61016949, 0.6440678 , 0.76271186, 0.6779661 , 0.69491525,\n",
              "       0.55932203, 0.61016949, 0.57627119, 0.55172414, 0.56896552])"
            ]
          },
          "metadata": {},
          "execution_count": 17
        }
      ]
    },
    {
      "cell_type": "markdown",
      "source": [
        "classification using decision tree"
      ],
      "metadata": {
        "id": "wIc7JT0mAOMn"
      }
    },
    {
      "cell_type": "code",
      "source": [
        "from sklearn.tree import DecisionTreeClassifier\n",
        "\n",
        "dtc = DecisionTreeClassifier(random_state=0)\n",
        "cross_val_score(dtc, X, y, cv=10)"
      ],
      "metadata": {
        "colab": {
          "base_uri": "https://localhost:8080/"
        },
        "id": "1_D_XDe-ANcM",
        "outputId": "e97f2a5d-d309-4d47-8fa2-05185634cb18"
      },
      "execution_count": null,
      "outputs": [
        {
          "output_type": "execute_result",
          "data": {
            "text/plain": [
              "array([0.54237288, 0.62711864, 0.66101695, 0.55932203, 0.6440678 ,\n",
              "       0.61016949, 0.62711864, 0.57627119, 0.62068966, 0.63793103])"
            ]
          },
          "metadata": {},
          "execution_count": 15
        }
      ]
    },
    {
      "cell_type": "code",
      "source": [
        "# testing with sklearn ridgeCV\n",
        "from sklearn.linear_model import RidgeCV\n",
        "from sklearn.metrics import mean_absolute_error, mean_squared_error\n",
        "\n",
        "x_test = np.array(x_test)\n",
        "ridge = RidgeCV(cv=5)\n",
        "ridge.fit(x_train, y_train)\n",
        "prediction = ridge.predict(x_test)\n",
        "mae = mean_absolute_error(y_test, prediction)\n",
        "mse = mean_squared_error(y_test, prediction)\n",
        "print(\"mae, mse\", mae,mse)"
      ],
      "metadata": {
        "colab": {
          "base_uri": "https://localhost:8080/"
        },
        "id": "OutPMOblOdec",
        "outputId": "3e68c997-7205-4494-8985-204fba15ce0a"
      },
      "execution_count": null,
      "outputs": [
        {
          "output_type": "stream",
          "name": "stdout",
          "text": [
            "mae, mse 0.37382467469926606 0.20673773856916644\n"
          ]
        }
      ]
    },
    {
      "cell_type": "code",
      "source": [
        "model = lq. MorganBinaryClassifier()\n",
        "model.fit(x_train, y_train)\n",
        "y_hat = model.predict(x_test)\n",
        "fpr, tpr, _ = roc_curve(y_test, y_hat)\n",
        "print(\"AUROC\", auc(fpr, tpr))"
      ],
      "metadata": {
        "id": "WcSp1ajJDF_0",
        "colab": {
          "base_uri": "https://localhost:8080/"
        },
        "outputId": "e4777b7e-841d-4df0-98a2-a7a6077e9355"
      },
      "execution_count": null,
      "outputs": [
        {
          "output_type": "stream",
          "name": "stderr",
          "text": [
            "[flaml.automl: 11-16 15:55:33] {2365} INFO - task = classification\n",
            "INFO:flaml.automl:task = classification\n",
            "[flaml.automl: 11-16 15:55:33] {2367} INFO - Data split method: stratified\n",
            "INFO:flaml.automl:Data split method: stratified\n",
            "[flaml.automl: 11-16 15:55:33] {2371} INFO - Evaluation method: holdout\n",
            "INFO:flaml.automl:Evaluation method: holdout\n",
            "[flaml.automl: 11-16 15:55:33] {2448} INFO - Minimizing error metric: 1-roc_auc\n",
            "INFO:flaml.automl:Minimizing error metric: 1-roc_auc\n",
            "[flaml.automl: 11-16 15:55:33] {2561} INFO - List of ML learners in AutoML Run: ['rf']\n",
            "INFO:flaml.automl:List of ML learners in AutoML Run: ['rf']\n",
            "[flaml.automl: 11-16 15:55:33] {2853} INFO - iteration 0, current learner rf\n",
            "INFO:flaml.automl:iteration 0, current learner rf\n",
            "[flaml.automl: 11-16 15:55:34] {2984} INFO - Estimated sufficient time budget=3246s. Estimated necessary time budget=3s.\n",
            "INFO:flaml.automl:Estimated sufficient time budget=3246s. Estimated necessary time budget=3s.\n",
            "[flaml.automl: 11-16 15:55:34] {3036} INFO -  at 0.4s,\testimator rf's best error=0.3826,\tbest estimator rf's best error=0.3826\n",
            "INFO:flaml.automl: at 0.4s,\testimator rf's best error=0.3826,\tbest estimator rf's best error=0.3826\n",
            "[flaml.automl: 11-16 15:55:34] {2853} INFO - iteration 1, current learner rf\n",
            "INFO:flaml.automl:iteration 1, current learner rf\n",
            "[flaml.automl: 11-16 15:55:34] {3036} INFO -  at 0.7s,\testimator rf's best error=0.3636,\tbest estimator rf's best error=0.3636\n",
            "INFO:flaml.automl: at 0.7s,\testimator rf's best error=0.3636,\tbest estimator rf's best error=0.3636\n",
            "[flaml.automl: 11-16 15:55:34] {2853} INFO - iteration 2, current learner rf\n",
            "INFO:flaml.automl:iteration 2, current learner rf\n",
            "[flaml.automl: 11-16 15:55:34] {3036} INFO -  at 1.0s,\testimator rf's best error=0.3627,\tbest estimator rf's best error=0.3627\n",
            "INFO:flaml.automl: at 1.0s,\testimator rf's best error=0.3627,\tbest estimator rf's best error=0.3627\n",
            "[flaml.automl: 11-16 15:55:34] {2853} INFO - iteration 3, current learner rf\n",
            "INFO:flaml.automl:iteration 3, current learner rf\n",
            "[flaml.automl: 11-16 15:55:35] {3036} INFO -  at 1.5s,\testimator rf's best error=0.3627,\tbest estimator rf's best error=0.3627\n",
            "INFO:flaml.automl: at 1.5s,\testimator rf's best error=0.3627,\tbest estimator rf's best error=0.3627\n",
            "[flaml.automl: 11-16 15:55:35] {2853} INFO - iteration 4, current learner rf\n",
            "INFO:flaml.automl:iteration 4, current learner rf\n",
            "[flaml.automl: 11-16 15:55:35] {3036} INFO -  at 1.8s,\testimator rf's best error=0.3627,\tbest estimator rf's best error=0.3627\n",
            "INFO:flaml.automl: at 1.8s,\testimator rf's best error=0.3627,\tbest estimator rf's best error=0.3627\n",
            "[flaml.automl: 11-16 15:55:35] {2853} INFO - iteration 5, current learner rf\n",
            "INFO:flaml.automl:iteration 5, current learner rf\n",
            "[flaml.automl: 11-16 15:55:35] {3036} INFO -  at 2.3s,\testimator rf's best error=0.3627,\tbest estimator rf's best error=0.3627\n",
            "INFO:flaml.automl: at 2.3s,\testimator rf's best error=0.3627,\tbest estimator rf's best error=0.3627\n",
            "[flaml.automl: 11-16 15:55:36] {2853} INFO - iteration 6, current learner rf\n",
            "INFO:flaml.automl:iteration 6, current learner rf\n",
            "[flaml.automl: 11-16 15:55:36] {3036} INFO -  at 2.6s,\testimator rf's best error=0.3172,\tbest estimator rf's best error=0.3172\n",
            "INFO:flaml.automl: at 2.6s,\testimator rf's best error=0.3172,\tbest estimator rf's best error=0.3172\n",
            "[flaml.automl: 11-16 15:55:36] {2853} INFO - iteration 7, current learner rf\n",
            "INFO:flaml.automl:iteration 7, current learner rf\n",
            "[flaml.automl: 11-16 15:55:36] {3036} INFO -  at 3.0s,\testimator rf's best error=0.3172,\tbest estimator rf's best error=0.3172\n",
            "INFO:flaml.automl: at 3.0s,\testimator rf's best error=0.3172,\tbest estimator rf's best error=0.3172\n",
            "[flaml.automl: 11-16 15:55:36] {2853} INFO - iteration 8, current learner rf\n",
            "INFO:flaml.automl:iteration 8, current learner rf\n",
            "[flaml.automl: 11-16 15:55:37] {3036} INFO -  at 3.4s,\testimator rf's best error=0.3172,\tbest estimator rf's best error=0.3172\n",
            "INFO:flaml.automl: at 3.4s,\testimator rf's best error=0.3172,\tbest estimator rf's best error=0.3172\n",
            "[flaml.automl: 11-16 15:55:37] {2853} INFO - iteration 9, current learner rf\n",
            "INFO:flaml.automl:iteration 9, current learner rf\n",
            "[flaml.automl: 11-16 15:55:37] {3036} INFO -  at 3.7s,\testimator rf's best error=0.3172,\tbest estimator rf's best error=0.3172\n",
            "INFO:flaml.automl: at 3.7s,\testimator rf's best error=0.3172,\tbest estimator rf's best error=0.3172\n",
            "[flaml.automl: 11-16 15:55:37] {2853} INFO - iteration 10, current learner rf\n",
            "INFO:flaml.automl:iteration 10, current learner rf\n",
            "[flaml.automl: 11-16 15:55:37] {3036} INFO -  at 4.0s,\testimator rf's best error=0.3172,\tbest estimator rf's best error=0.3172\n",
            "INFO:flaml.automl: at 4.0s,\testimator rf's best error=0.3172,\tbest estimator rf's best error=0.3172\n",
            "[flaml.automl: 11-16 15:55:37] {2853} INFO - iteration 11, current learner rf\n",
            "INFO:flaml.automl:iteration 11, current learner rf\n",
            "[flaml.automl: 11-16 15:55:38] {3036} INFO -  at 4.4s,\testimator rf's best error=0.3172,\tbest estimator rf's best error=0.3172\n",
            "INFO:flaml.automl: at 4.4s,\testimator rf's best error=0.3172,\tbest estimator rf's best error=0.3172\n",
            "[flaml.automl: 11-16 15:55:38] {2853} INFO - iteration 12, current learner rf\n",
            "INFO:flaml.automl:iteration 12, current learner rf\n",
            "[flaml.automl: 11-16 15:55:38] {3036} INFO -  at 4.8s,\testimator rf's best error=0.3172,\tbest estimator rf's best error=0.3172\n",
            "INFO:flaml.automl: at 4.8s,\testimator rf's best error=0.3172,\tbest estimator rf's best error=0.3172\n",
            "[flaml.automl: 11-16 15:55:38] {2853} INFO - iteration 13, current learner rf\n",
            "INFO:flaml.automl:iteration 13, current learner rf\n",
            "[flaml.automl: 11-16 15:55:38] {3036} INFO -  at 5.1s,\testimator rf's best error=0.3172,\tbest estimator rf's best error=0.3172\n",
            "INFO:flaml.automl: at 5.1s,\testimator rf's best error=0.3172,\tbest estimator rf's best error=0.3172\n",
            "[flaml.automl: 11-16 15:55:38] {2853} INFO - iteration 14, current learner rf\n",
            "INFO:flaml.automl:iteration 14, current learner rf\n",
            "[flaml.automl: 11-16 15:55:39] {3036} INFO -  at 5.6s,\testimator rf's best error=0.3172,\tbest estimator rf's best error=0.3172\n",
            "INFO:flaml.automl: at 5.6s,\testimator rf's best error=0.3172,\tbest estimator rf's best error=0.3172\n",
            "[flaml.automl: 11-16 15:55:39] {2853} INFO - iteration 15, current learner rf\n",
            "INFO:flaml.automl:iteration 15, current learner rf\n",
            "[flaml.automl: 11-16 15:55:39] {3036} INFO -  at 5.9s,\testimator rf's best error=0.3172,\tbest estimator rf's best error=0.3172\n",
            "INFO:flaml.automl: at 5.9s,\testimator rf's best error=0.3172,\tbest estimator rf's best error=0.3172\n",
            "[flaml.automl: 11-16 15:55:39] {2853} INFO - iteration 16, current learner rf\n",
            "INFO:flaml.automl:iteration 16, current learner rf\n",
            "[flaml.automl: 11-16 15:55:40] {3036} INFO -  at 6.3s,\testimator rf's best error=0.3172,\tbest estimator rf's best error=0.3172\n",
            "INFO:flaml.automl: at 6.3s,\testimator rf's best error=0.3172,\tbest estimator rf's best error=0.3172\n",
            "[flaml.automl: 11-16 15:55:40] {2853} INFO - iteration 17, current learner rf\n",
            "INFO:flaml.automl:iteration 17, current learner rf\n",
            "[flaml.automl: 11-16 15:55:40] {3036} INFO -  at 6.7s,\testimator rf's best error=0.3172,\tbest estimator rf's best error=0.3172\n",
            "INFO:flaml.automl: at 6.7s,\testimator rf's best error=0.3172,\tbest estimator rf's best error=0.3172\n",
            "[flaml.automl: 11-16 15:55:40] {2853} INFO - iteration 18, current learner rf\n",
            "INFO:flaml.automl:iteration 18, current learner rf\n",
            "[flaml.automl: 11-16 15:55:40] {3036} INFO -  at 7.1s,\testimator rf's best error=0.3172,\tbest estimator rf's best error=0.3172\n",
            "INFO:flaml.automl: at 7.1s,\testimator rf's best error=0.3172,\tbest estimator rf's best error=0.3172\n",
            "[flaml.automl: 11-16 15:55:40] {2853} INFO - iteration 19, current learner rf\n",
            "INFO:flaml.automl:iteration 19, current learner rf\n",
            "[flaml.automl: 11-16 15:55:41] {3036} INFO -  at 7.4s,\testimator rf's best error=0.2595,\tbest estimator rf's best error=0.2595\n",
            "INFO:flaml.automl: at 7.4s,\testimator rf's best error=0.2595,\tbest estimator rf's best error=0.2595\n",
            "[flaml.automl: 11-16 15:55:41] {2853} INFO - iteration 20, current learner rf\n",
            "INFO:flaml.automl:iteration 20, current learner rf\n",
            "[flaml.automl: 11-16 15:55:41] {3036} INFO -  at 7.8s,\testimator rf's best error=0.2595,\tbest estimator rf's best error=0.2595\n",
            "INFO:flaml.automl: at 7.8s,\testimator rf's best error=0.2595,\tbest estimator rf's best error=0.2595\n",
            "[flaml.automl: 11-16 15:55:41] {2853} INFO - iteration 21, current learner rf\n",
            "INFO:flaml.automl:iteration 21, current learner rf\n",
            "[flaml.automl: 11-16 15:55:41] {3036} INFO -  at 8.2s,\testimator rf's best error=0.2595,\tbest estimator rf's best error=0.2595\n",
            "INFO:flaml.automl: at 8.2s,\testimator rf's best error=0.2595,\tbest estimator rf's best error=0.2595\n",
            "[flaml.automl: 11-16 15:55:41] {2853} INFO - iteration 22, current learner rf\n",
            "INFO:flaml.automl:iteration 22, current learner rf\n",
            "[flaml.automl: 11-16 15:55:42] {3036} INFO -  at 8.5s,\testimator rf's best error=0.2595,\tbest estimator rf's best error=0.2595\n",
            "INFO:flaml.automl: at 8.5s,\testimator rf's best error=0.2595,\tbest estimator rf's best error=0.2595\n",
            "[flaml.automl: 11-16 15:55:42] {2853} INFO - iteration 23, current learner rf\n",
            "INFO:flaml.automl:iteration 23, current learner rf\n",
            "[flaml.automl: 11-16 15:55:42] {3036} INFO -  at 9.0s,\testimator rf's best error=0.1780,\tbest estimator rf's best error=0.1780\n",
            "INFO:flaml.automl: at 9.0s,\testimator rf's best error=0.1780,\tbest estimator rf's best error=0.1780\n",
            "[flaml.automl: 11-16 15:55:42] {2853} INFO - iteration 24, current learner rf\n",
            "INFO:flaml.automl:iteration 24, current learner rf\n",
            "[flaml.automl: 11-16 15:55:43] {3036} INFO -  at 9.3s,\testimator rf's best error=0.1780,\tbest estimator rf's best error=0.1780\n",
            "INFO:flaml.automl: at 9.3s,\testimator rf's best error=0.1780,\tbest estimator rf's best error=0.1780\n",
            "[flaml.automl: 11-16 15:55:43] {2853} INFO - iteration 25, current learner rf\n",
            "INFO:flaml.automl:iteration 25, current learner rf\n",
            "[flaml.automl: 11-16 15:55:43] {3036} INFO -  at 9.8s,\testimator rf's best error=0.1780,\tbest estimator rf's best error=0.1780\n",
            "INFO:flaml.automl: at 9.8s,\testimator rf's best error=0.1780,\tbest estimator rf's best error=0.1780\n",
            "[flaml.automl: 11-16 15:55:43] {2853} INFO - iteration 26, current learner rf\n",
            "INFO:flaml.automl:iteration 26, current learner rf\n",
            "[flaml.automl: 11-16 15:55:43] {3036} INFO -  at 10.2s,\testimator rf's best error=0.1780,\tbest estimator rf's best error=0.1780\n",
            "INFO:flaml.automl: at 10.2s,\testimator rf's best error=0.1780,\tbest estimator rf's best error=0.1780\n",
            "[flaml.automl: 11-16 15:55:43] {2853} INFO - iteration 27, current learner rf\n",
            "INFO:flaml.automl:iteration 27, current learner rf\n",
            "[flaml.automl: 11-16 15:55:44] {3036} INFO -  at 10.6s,\testimator rf's best error=0.1780,\tbest estimator rf's best error=0.1780\n",
            "INFO:flaml.automl: at 10.6s,\testimator rf's best error=0.1780,\tbest estimator rf's best error=0.1780\n",
            "[flaml.automl: 11-16 15:55:44] {2853} INFO - iteration 28, current learner rf\n",
            "INFO:flaml.automl:iteration 28, current learner rf\n",
            "[flaml.automl: 11-16 15:55:44] {3036} INFO -  at 11.1s,\testimator rf's best error=0.1780,\tbest estimator rf's best error=0.1780\n",
            "INFO:flaml.automl: at 11.1s,\testimator rf's best error=0.1780,\tbest estimator rf's best error=0.1780\n",
            "[flaml.automl: 11-16 15:55:44] {2853} INFO - iteration 29, current learner rf\n",
            "INFO:flaml.automl:iteration 29, current learner rf\n",
            "[flaml.automl: 11-16 15:55:45] {3036} INFO -  at 11.5s,\testimator rf's best error=0.1780,\tbest estimator rf's best error=0.1780\n",
            "INFO:flaml.automl: at 11.5s,\testimator rf's best error=0.1780,\tbest estimator rf's best error=0.1780\n",
            "[flaml.automl: 11-16 15:55:45] {2853} INFO - iteration 30, current learner rf\n",
            "INFO:flaml.automl:iteration 30, current learner rf\n",
            "[flaml.automl: 11-16 15:55:45] {3036} INFO -  at 11.9s,\testimator rf's best error=0.1780,\tbest estimator rf's best error=0.1780\n",
            "INFO:flaml.automl: at 11.9s,\testimator rf's best error=0.1780,\tbest estimator rf's best error=0.1780\n",
            "[flaml.automl: 11-16 15:55:45] {2853} INFO - iteration 31, current learner rf\n",
            "INFO:flaml.automl:iteration 31, current learner rf\n",
            "[flaml.automl: 11-16 15:55:46] {3036} INFO -  at 12.4s,\testimator rf's best error=0.1780,\tbest estimator rf's best error=0.1780\n",
            "INFO:flaml.automl: at 12.4s,\testimator rf's best error=0.1780,\tbest estimator rf's best error=0.1780\n",
            "[flaml.automl: 11-16 15:55:46] {2853} INFO - iteration 32, current learner rf\n",
            "INFO:flaml.automl:iteration 32, current learner rf\n",
            "[flaml.automl: 11-16 15:55:46] {3036} INFO -  at 12.8s,\testimator rf's best error=0.1780,\tbest estimator rf's best error=0.1780\n",
            "INFO:flaml.automl: at 12.8s,\testimator rf's best error=0.1780,\tbest estimator rf's best error=0.1780\n",
            "[flaml.automl: 11-16 15:55:46] {2853} INFO - iteration 33, current learner rf\n",
            "INFO:flaml.automl:iteration 33, current learner rf\n",
            "[flaml.automl: 11-16 15:55:46] {3036} INFO -  at 13.3s,\testimator rf's best error=0.1780,\tbest estimator rf's best error=0.1780\n",
            "INFO:flaml.automl: at 13.3s,\testimator rf's best error=0.1780,\tbest estimator rf's best error=0.1780\n",
            "[flaml.automl: 11-16 15:55:47] {2853} INFO - iteration 34, current learner rf\n",
            "INFO:flaml.automl:iteration 34, current learner rf\n",
            "[flaml.automl: 11-16 15:55:47] {3036} INFO -  at 13.7s,\testimator rf's best error=0.1780,\tbest estimator rf's best error=0.1780\n",
            "INFO:flaml.automl: at 13.7s,\testimator rf's best error=0.1780,\tbest estimator rf's best error=0.1780\n",
            "[flaml.automl: 11-16 15:55:47] {2853} INFO - iteration 35, current learner rf\n",
            "INFO:flaml.automl:iteration 35, current learner rf\n",
            "[flaml.automl: 11-16 15:55:47] {3036} INFO -  at 14.1s,\testimator rf's best error=0.1780,\tbest estimator rf's best error=0.1780\n",
            "INFO:flaml.automl: at 14.1s,\testimator rf's best error=0.1780,\tbest estimator rf's best error=0.1780\n",
            "[flaml.automl: 11-16 15:55:47] {2853} INFO - iteration 36, current learner rf\n",
            "INFO:flaml.automl:iteration 36, current learner rf\n",
            "[flaml.automl: 11-16 15:55:48] {3036} INFO -  at 14.5s,\testimator rf's best error=0.1780,\tbest estimator rf's best error=0.1780\n",
            "INFO:flaml.automl: at 14.5s,\testimator rf's best error=0.1780,\tbest estimator rf's best error=0.1780\n",
            "[flaml.automl: 11-16 15:55:48] {2853} INFO - iteration 37, current learner rf\n",
            "INFO:flaml.automl:iteration 37, current learner rf\n",
            "[flaml.automl: 11-16 15:55:48] {3036} INFO -  at 14.9s,\testimator rf's best error=0.1780,\tbest estimator rf's best error=0.1780\n",
            "INFO:flaml.automl: at 14.9s,\testimator rf's best error=0.1780,\tbest estimator rf's best error=0.1780\n",
            "[flaml.automl: 11-16 15:55:48] {2853} INFO - iteration 38, current learner rf\n",
            "INFO:flaml.automl:iteration 38, current learner rf\n",
            "[flaml.automl: 11-16 15:55:49] {3036} INFO -  at 15.4s,\testimator rf's best error=0.1780,\tbest estimator rf's best error=0.1780\n",
            "INFO:flaml.automl: at 15.4s,\testimator rf's best error=0.1780,\tbest estimator rf's best error=0.1780\n",
            "[flaml.automl: 11-16 15:55:49] {2853} INFO - iteration 39, current learner rf\n",
            "INFO:flaml.automl:iteration 39, current learner rf\n",
            "[flaml.automl: 11-16 15:55:49] {3036} INFO -  at 15.8s,\testimator rf's best error=0.1780,\tbest estimator rf's best error=0.1780\n",
            "INFO:flaml.automl: at 15.8s,\testimator rf's best error=0.1780,\tbest estimator rf's best error=0.1780\n",
            "[flaml.automl: 11-16 15:55:49] {2853} INFO - iteration 40, current learner rf\n",
            "INFO:flaml.automl:iteration 40, current learner rf\n",
            "[flaml.automl: 11-16 15:55:49] {3036} INFO -  at 16.2s,\testimator rf's best error=0.1780,\tbest estimator rf's best error=0.1780\n",
            "INFO:flaml.automl: at 16.2s,\testimator rf's best error=0.1780,\tbest estimator rf's best error=0.1780\n",
            "[flaml.automl: 11-16 15:55:49] {2853} INFO - iteration 41, current learner rf\n",
            "INFO:flaml.automl:iteration 41, current learner rf\n",
            "[flaml.automl: 11-16 15:55:50] {3036} INFO -  at 16.7s,\testimator rf's best error=0.1780,\tbest estimator rf's best error=0.1780\n",
            "INFO:flaml.automl: at 16.7s,\testimator rf's best error=0.1780,\tbest estimator rf's best error=0.1780\n",
            "[flaml.automl: 11-16 15:55:50] {2853} INFO - iteration 42, current learner rf\n",
            "INFO:flaml.automl:iteration 42, current learner rf\n",
            "[flaml.automl: 11-16 15:55:50] {3036} INFO -  at 17.1s,\testimator rf's best error=0.1780,\tbest estimator rf's best error=0.1780\n",
            "INFO:flaml.automl: at 17.1s,\testimator rf's best error=0.1780,\tbest estimator rf's best error=0.1780\n",
            "[flaml.automl: 11-16 15:55:50] {2853} INFO - iteration 43, current learner rf\n",
            "INFO:flaml.automl:iteration 43, current learner rf\n",
            "[flaml.automl: 11-16 15:55:51] {3036} INFO -  at 17.5s,\testimator rf's best error=0.1780,\tbest estimator rf's best error=0.1780\n",
            "INFO:flaml.automl: at 17.5s,\testimator rf's best error=0.1780,\tbest estimator rf's best error=0.1780\n",
            "[flaml.automl: 11-16 15:55:51] {2853} INFO - iteration 44, current learner rf\n",
            "INFO:flaml.automl:iteration 44, current learner rf\n",
            "[flaml.automl: 11-16 15:55:51] {3036} INFO -  at 18.0s,\testimator rf's best error=0.1780,\tbest estimator rf's best error=0.1780\n",
            "INFO:flaml.automl: at 18.0s,\testimator rf's best error=0.1780,\tbest estimator rf's best error=0.1780\n",
            "[flaml.automl: 11-16 15:55:51] {2853} INFO - iteration 45, current learner rf\n",
            "INFO:flaml.automl:iteration 45, current learner rf\n",
            "[flaml.automl: 11-16 15:55:52] {3036} INFO -  at 18.4s,\testimator rf's best error=0.1780,\tbest estimator rf's best error=0.1780\n",
            "INFO:flaml.automl: at 18.4s,\testimator rf's best error=0.1780,\tbest estimator rf's best error=0.1780\n",
            "[flaml.automl: 11-16 15:55:52] {2853} INFO - iteration 46, current learner rf\n",
            "INFO:flaml.automl:iteration 46, current learner rf\n",
            "[flaml.automl: 11-16 15:55:52] {3036} INFO -  at 18.9s,\testimator rf's best error=0.1780,\tbest estimator rf's best error=0.1780\n",
            "INFO:flaml.automl: at 18.9s,\testimator rf's best error=0.1780,\tbest estimator rf's best error=0.1780\n",
            "[flaml.automl: 11-16 15:55:52] {2853} INFO - iteration 47, current learner rf\n",
            "INFO:flaml.automl:iteration 47, current learner rf\n",
            "[flaml.automl: 11-16 15:55:53] {3036} INFO -  at 19.3s,\testimator rf's best error=0.1780,\tbest estimator rf's best error=0.1780\n",
            "INFO:flaml.automl: at 19.3s,\testimator rf's best error=0.1780,\tbest estimator rf's best error=0.1780\n",
            "[flaml.automl: 11-16 15:55:53] {2853} INFO - iteration 48, current learner rf\n",
            "INFO:flaml.automl:iteration 48, current learner rf\n",
            "[flaml.automl: 11-16 15:55:53] {3036} INFO -  at 19.6s,\testimator rf's best error=0.1780,\tbest estimator rf's best error=0.1780\n",
            "INFO:flaml.automl: at 19.6s,\testimator rf's best error=0.1780,\tbest estimator rf's best error=0.1780\n",
            "[flaml.automl: 11-16 15:55:53] {3292} INFO - retrain rf for 0.3s\n",
            "INFO:flaml.automl:retrain rf for 0.3s\n",
            "[flaml.automl: 11-16 15:55:53] {3297} INFO - retrained model: RandomForestClassifier(max_features=0.03634534969202818, max_leaf_nodes=5,\n",
            "                       n_estimators=7, n_jobs=-1)\n",
            "INFO:flaml.automl:retrained model: RandomForestClassifier(max_features=0.03634534969202818, max_leaf_nodes=5,\n",
            "                       n_estimators=7, n_jobs=-1)\n",
            "[flaml.automl: 11-16 15:55:53] {2592} INFO - fit succeeded\n",
            "INFO:flaml.automl:fit succeeded\n",
            "[flaml.automl: 11-16 15:55:53] {2594} INFO - Time taken to find the best model: 8.983123302459717\n",
            "INFO:flaml.automl:Time taken to find the best model: 8.983123302459717\n"
          ]
        },
        {
          "output_type": "stream",
          "name": "stdout",
          "text": [
            "AUROC 0.5039251207729468\n"
          ]
        }
      ]
    },
    {
      "cell_type": "code",
      "source": [
        "# ClassicBinaryClassifier\n",
        "model = lq.ClassicBinaryClassifier(automl=False)\n",
        "model.fit(x_train, y_train)\n",
        "y_hat = model.predict(x_test)\n",
        "fprcb, tprcb, _ = roc_curve(y_test, y_hat)\n",
        "print(\"AUROC\", auc(fprcb, tprcb))"
      ],
      "metadata": {
        "colab": {
          "base_uri": "https://localhost:8080/"
        },
        "id": "g57JuFpbXQvx",
        "outputId": "37814308-832b-494b-a8e8-e2e7b2430d4d"
      },
      "execution_count": null,
      "outputs": [
        {
          "output_type": "stream",
          "name": "stdout",
          "text": [
            "AUROC 0.6222826086956521\n"
          ]
        }
      ]
    },
    {
      "cell_type": "code",
      "source": [
        "from sklearn.metrics import confusion_matrix\n",
        "\n",
        "tn, fp, fn, tp = confusion_matrix(y_test,y_hat).ravel()\n",
        "tn, fp, fn, tp"
      ],
      "metadata": {
        "colab": {
          "base_uri": "https://localhost:8080/"
        },
        "id": "fEXwsW1hb1MA",
        "outputId": "983f3923-b459-467b-cabb-474801246f42"
      },
      "execution_count": null,
      "outputs": [
        {
          "output_type": "execute_result",
          "data": {
            "text/plain": [
              "(18, 28, 8, 64)"
            ]
          },
          "metadata": {},
          "execution_count": 12
        }
      ]
    },
    {
      "cell_type": "code",
      "source": [
        "y_test_list = y_test.tolist()\n",
        "print(y_test_list.count(0), y_test_list.count(1))\n",
        "n0 = y_test_list.count(0)\n",
        "n1 = y_test_list.count(1)"
      ],
      "metadata": {
        "colab": {
          "base_uri": "https://localhost:8080/"
        },
        "id": "xySDjXdG8c1R",
        "outputId": "7385e317-010d-4817-e9a1-17251765224f"
      },
      "execution_count": null,
      "outputs": [
        {
          "output_type": "stream",
          "name": "stdout",
          "text": [
            "46 72\n"
          ]
        }
      ]
    },
    {
      "cell_type": "code",
      "source": [
        "# corrected classification rate\n",
        "ccr = (0.5)*((tn / n0 ) + (tp / n1))\n",
        "ccr"
      ],
      "metadata": {
        "colab": {
          "base_uri": "https://localhost:8080/"
        },
        "id": "akCqFZTB__Fr",
        "outputId": "6dd6397c-343c-48d0-8a6d-e6351867f226"
      },
      "execution_count": null,
      "outputs": [
        {
          "output_type": "execute_result",
          "data": {
            "text/plain": [
              "0.6400966183574879"
            ]
          },
          "metadata": {},
          "execution_count": 14
        }
      ]
    },
    {
      "cell_type": "code",
      "source": [
        "model = lq.MordredBinaryClassifier()"
      ],
      "metadata": {
        "id": "lgLiVCyzMj-z"
      },
      "execution_count": null,
      "outputs": []
    },
    {
      "cell_type": "code",
      "source": [
        "from sklearn.model_selection import cross_validate\n",
        "def cross_validation(model, _X, _y, _cv=5):\n",
        "     \n",
        "      _scoring = ['accuracy', 'precision', 'recall', 'f1']\n",
        "      results = cross_validate(estimator=model,\n",
        "                               X=_X,\n",
        "                               y=_y,\n",
        "                               cv=_cv,\n",
        "                               scoring=_scoring,\n",
        "                               return_train_score=True)\n",
        "      \n",
        "      return {\"Training Accuracy scores\": results['train_accuracy'],\n",
        "              \"Mean Training Accuracy\": results['train_accuracy'].mean()*100,\n",
        "              \"Training Precision scores\": results['train_precision'],\n",
        "              \"Mean Training Precision\": results['train_precision'].mean(),\n",
        "              \"Training Recall scores\": results['train_recall'],\n",
        "              \"Mean Training Recall\": results['train_recall'].mean(),\n",
        "              \"Training F1 scores\": results['train_f1'],\n",
        "              \"Mean Training F1 Score\": results['train_f1'].mean(),\n",
        "              \"Validation Accuracy scores\": results['test_accuracy'],\n",
        "              \"Mean Validation Accuracy\": results['test_accuracy'].mean()*100,\n",
        "              \"Validation Precision scores\": results['test_precision'],\n",
        "              \"Mean Validation Precision\": results['test_precision'].mean(),\n",
        "              \"Validation Recall scores\": results['test_recall'],\n",
        "              \"Mean Validation Recall\": results['test_recall'].mean(),\n",
        "              \"Validation F1 scores\": results['test_f1'],\n",
        "              \"Mean Validation F1 Score\": results['test_f1'].mean()\n",
        "              }"
      ],
      "metadata": {
        "id": "uDsjxqTCNJ05"
      },
      "execution_count": null,
      "outputs": []
    },
    {
      "cell_type": "code",
      "source": [
        "%%capture\n",
        "!pip install scikeras\n",
        "\n",
        "from scikeras.wrappers import KerasClassifier"
      ],
      "metadata": {
        "id": "5r1O4LdHPj8c"
      },
      "execution_count": null,
      "outputs": []
    },
    {
      "cell_type": "code",
      "source": [
        "from sklearn.tree import DecisionTreeClassifier\n",
        "# decision_tree_model = DecisionTreeClassifier(criterion=\"entropy\",\n",
        "#                                      random_state=0)\n",
        "#keras_clf = KerasClassifier(model = model, optimizer=\"adam\", epochs=100, verbose=0)\n",
        "modred_result = cross_validation(model,smileslist,y, 5)\n",
        "print(modred_result)"
      ],
      "metadata": {
        "colab": {
          "base_uri": "https://localhost:8080/"
        },
        "id": "pCxvLdz4NT7w",
        "outputId": "6f7a196e-d4e1-45b8-a183-8a2749def7f1"
      },
      "execution_count": null,
      "outputs": [
        {
          "output_type": "stream",
          "name": "stdout",
          "text": [
            "{'Training Accuracy scores': array([nan, nan, nan, nan, nan]), 'Mean Training Accuracy': nan, 'Training Precision scores': array([nan, nan, nan, nan, nan]), 'Mean Training Precision': nan, 'Training Recall scores': array([nan, nan, nan, nan, nan]), 'Mean Training Recall': nan, 'Training F1 scores': array([nan, nan, nan, nan, nan]), 'Mean Training F1 Score': nan, 'Validation Accuracy scores': array([nan, nan, nan, nan, nan]), 'Mean Validation Accuracy': nan, 'Validation Precision scores': array([nan, nan, nan, nan, nan]), 'Mean Validation Precision': nan, 'Validation Recall scores': array([nan, nan, nan, nan, nan]), 'Mean Validation Recall': nan, 'Validation F1 scores': array([nan, nan, nan, nan, nan]), 'Mean Validation F1 Score': nan}\n"
          ]
        },
        {
          "output_type": "stream",
          "name": "stderr",
          "text": [
            "\n",
            "5 fits failed out of a total of 5.\n",
            "The score on these train-test partitions for these parameters will be set to nan.\n",
            "If these failures are not expected, you can try to debug them by setting error_score='raise'.\n",
            "\n",
            "Below are more details about the failures:\n",
            "--------------------------------------------------------------------------------\n",
            "1 fits failed with the following error:\n",
            "Traceback (most recent call last):\n",
            "  File \"/usr/local/lib/python3.7/dist-packages/sklearn/model_selection/_validation.py\", line 680, in _fit_and_score\n",
            "    estimator.fit(X_train, y_train, **fit_params)\n",
            "  File \"/usr/local/lib/python3.7/dist-packages/sklearn/tree/_classes.py\", line 942, in fit\n",
            "    X_idx_sorted=X_idx_sorted,\n",
            "  File \"/usr/local/lib/python3.7/dist-packages/sklearn/tree/_classes.py\", line 166, in fit\n",
            "    X, y, validate_separately=(check_X_params, check_y_params)\n",
            "  File \"/usr/local/lib/python3.7/dist-packages/sklearn/base.py\", line 578, in _validate_data\n",
            "    X = check_array(X, **check_X_params)\n",
            "  File \"/usr/local/lib/python3.7/dist-packages/sklearn/utils/validation.py\", line 746, in check_array\n",
            "    array = np.asarray(array, order=order, dtype=dtype)\n",
            "ValueError: could not convert string to float: 'C[C@](N)(Cc1ccc(O)cc1)C(O)=O'\n",
            "\n",
            "--------------------------------------------------------------------------------\n",
            "4 fits failed with the following error:\n",
            "Traceback (most recent call last):\n",
            "  File \"/usr/local/lib/python3.7/dist-packages/sklearn/model_selection/_validation.py\", line 680, in _fit_and_score\n",
            "    estimator.fit(X_train, y_train, **fit_params)\n",
            "  File \"/usr/local/lib/python3.7/dist-packages/sklearn/tree/_classes.py\", line 942, in fit\n",
            "    X_idx_sorted=X_idx_sorted,\n",
            "  File \"/usr/local/lib/python3.7/dist-packages/sklearn/tree/_classes.py\", line 166, in fit\n",
            "    X, y, validate_separately=(check_X_params, check_y_params)\n",
            "  File \"/usr/local/lib/python3.7/dist-packages/sklearn/base.py\", line 578, in _validate_data\n",
            "    X = check_array(X, **check_X_params)\n",
            "  File \"/usr/local/lib/python3.7/dist-packages/sklearn/utils/validation.py\", line 746, in check_array\n",
            "    array = np.asarray(array, order=order, dtype=dtype)\n",
            "ValueError: could not convert string to float: '[H][C@]1([S-])O[C@]([H])(CO)[C@@]([H])(O)[C@]([H])(O)[C@@]1([H])O'\n",
            "\n"
          ]
        }
      ]
    },
    {
      "cell_type": "markdown",
      "source": [
        "Evaluating the model"
      ],
      "metadata": {
        "id": "xaafJTlM8fjO"
      }
    },
    {
      "cell_type": "code",
      "source": [
        "from sklearn.metrics import auc\n",
        "from sklearn.metrics import RocCurveDisplay\n",
        "from sklearn.model_selection import StratifiedKFold\n",
        "import matplotlib.pyplot as plt\n",
        "from sklearn.ensemble import RandomForestClassifier\n",
        "\n",
        "classifier = RandomForestClassifier(max_depth=2, random_state=0)\n",
        "cv = StratifiedKFold(n_splits=10)\n",
        "tprs = []\n",
        "aucs = []\n",
        "mean_fpr = np.linspace(0, 1, 100)\n",
        "\n",
        "fig, ax = plt.subplots()\n",
        "for i, (train, test) in enumerate(cv.split(X, y)):\n",
        "    classifier.fit(X[train], y[train])\n",
        "    viz = RocCurveDisplay.from_estimator(\n",
        "        classifier,\n",
        "        X[test],\n",
        "        y[test],\n",
        "        name=\"ROC fold {}\".format(i),\n",
        "        alpha=0.3,\n",
        "        lw=1,\n",
        "        ax=ax,\n",
        "    )\n",
        "    interp_tpr = np.interp(mean_fpr, viz.fpr, viz.tpr)\n",
        "    interp_tpr[0] = 0.0\n",
        "    tprs.append(interp_tpr)\n",
        "    aucs.append(viz.roc_auc)\n",
        "\n",
        "ax.plot([0, 1], [0, 1], linestyle=\"--\", lw=2, color=\"r\", label=\"Chance\", alpha=0.8)\n",
        "\n",
        "mean_tpr = np.mean(tprs, axis=0)\n",
        "mean_tpr[-1] = 1.0\n",
        "mean_auc = auc(mean_fpr, mean_tpr)\n",
        "std_auc = np.std(aucs)\n",
        "ax.plot(\n",
        "    mean_fpr,\n",
        "    mean_tpr,\n",
        "    color=\"b\",\n",
        "    label=r\"Mean ROC (AUC = %0.2f $\\pm$ %0.2f)\" % (mean_auc, std_auc),\n",
        "    lw=2,\n",
        "    alpha=0.8,\n",
        ")\n",
        "\n",
        "std_tpr = np.std(tprs, axis=0)\n",
        "tprs_upper = np.minimum(mean_tpr + std_tpr, 1)\n",
        "tprs_lower = np.maximum(mean_tpr - std_tpr, 0)\n",
        "ax.fill_between(\n",
        "    mean_fpr,\n",
        "    tprs_lower,\n",
        "    tprs_upper,\n",
        "    color=\"grey\",\n",
        "    alpha=0.2,\n",
        "    label=r\"$\\pm$ 1 std. dev.\",\n",
        ")\n",
        "\n",
        "ax.set(\n",
        "    xlim=[-0.05, 1.05],\n",
        "    ylim=[-0.05, 1.05],\n",
        "    title=\"Receiver operating characteristic example\",\n",
        ")\n",
        "ax.legend(loc=\"lower right\")\n",
        "plt.show()"
      ],
      "metadata": {
        "colab": {
          "base_uri": "https://localhost:8080/",
          "height": 295
        },
        "id": "QvNanyTv8fAj",
        "outputId": "4b1d33a0-8e76-431f-f502-8fa6dc215450"
      },
      "execution_count": null,
      "outputs": [
        {
          "output_type": "display_data",
          "data": {
            "text/plain": [
              "<Figure size 432x288 with 1 Axes>"
            ],
            "image/png": "[encoded data removed]"
          },
          "metadata": {
            "needs_background": "light"
          }
        }
      ]
    }
  ]
}